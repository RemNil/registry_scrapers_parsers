{
 "cells": [
  {
   "cell_type": "code",
   "execution_count": 1,
   "metadata": {},
   "outputs": [],
   "source": [
    "from selenium import webdriver\n",
    "from selenium.webdriver.common.keys import Keys\n",
    "from selenium.webdriver.common.by import By\n",
    "from selenium.webdriver.support.ui import Select\n",
    "#from selenium.webdriver.support.ui import WebDriverWait\n",
    "#from selenium.webdriver.support import expected_conditions as EC\n",
    "#from selenium.common.exceptions import TimeoutException\n",
    "from time import sleep\n",
    "import os\n",
    "import xmltodict\n",
    "import json\n",
    "import re"
   ]
  },
  {
   "cell_type": "code",
   "execution_count": 2,
   "metadata": {},
   "outputs": [],
   "source": [
    "chrome_driver = '/Users/nicholasdevito/Dropbox/Python projects/ANZCTR/chromedriver'\n",
    "download_path = '/Users/nicholasdevito/Desktop/CRiS Test'"
   ]
  },
  {
   "cell_type": "code",
   "execution_count": null,
   "metadata": {},
   "outputs": [],
   "source": [
    "chromeOptions = webdriver.ChromeOptions()\n",
    "prefs = {\"download.default_directory\" : download_path,\n",
    "        'disk-cache-size': 4096}\n",
    "chromeOptions.add_experimental_option(\"prefs\",prefs)\n",
    "driver = webdriver.Chrome(executable_path=chrome_driver, options=chromeOptions)\n",
    "driver.get('http://cris.nih.go.kr/cris/en/search/basic_search.jsp')\n",
    "driver.find_element_by_xpath(\"//input[@alt='Search']\").click()\n",
    "driver.find_element_by_xpath(\"//img[@alt='Download']\").click()\n",
    "sleep(2)\n",
    "handles = driver.window_handles\n",
    "driver.switch_to.window(handles[-1])\n",
    "select = Select(driver.find_element_by_id('data_dtype'))\n",
    "select.select_by_value('xml')\n",
    "driver.find_element_by_xpath(\"//img[@alt='confirm']\").click()\n",
    "\n",
    "#this is untested for this code at the moment because downloading takes forever\n",
    "dl_check = 0\n",
    "while dl_check == 0:\n",
    "    count = 0\n",
    "    for file in os.listdir(download_path):\n",
    "        if file.endswith(\".crdownload\") or len(os.listdir(download_path)) == 0:\n",
    "            count = count+1\n",
    "    if count == 0:\n",
    "        dl_check = 1\n",
    "        driver.quit()\n",
    "    else:\n",
    "        dl_check = 0\n",
    "        sleep(3)"
   ]
  },
  {
   "cell_type": "code",
   "execution_count": 3,
   "metadata": {},
   "outputs": [
    {
     "name": "stdout",
     "output_type": "stream",
     "text": [
      "['cris_research_2019-02-11_en.xml', '.DS_Store']\n",
      "cris_research_2019-02-11_en.xml\n"
     ]
    }
   ],
   "source": [
    "print(os.listdir(download_path))\n",
    "file_name = ''\n",
    "for file in os.listdir(download_path):\n",
    "    if file.endswith('.xml'):\n",
    "        file_name = file\n",
    "print(file_name)"
   ]
  },
  {
   "cell_type": "code",
   "execution_count": 4,
   "metadata": {},
   "outputs": [],
   "source": [
    "#there's a problematic set of characters (&#1;) in the xml making it not valid. This should clean it up:\n",
    "\n",
    "xmlstring = open(download_path + '/' + file_name, 'r').read()\n",
    "xml_fixed = re.sub(r'&#1;', '', xmlstring)"
   ]
  },
  {
   "cell_type": "code",
   "execution_count": 32,
   "metadata": {},
   "outputs": [],
   "source": [
    "cris_trials = []\n",
    "cris_json = []\n",
    "\n",
    "trials = xmltodict.parse(xml_fixed)\n",
    "for trial in trials['trials']['trial']:\n",
    "    cris_trials.append(str(json.dumps(trial)))\n",
    "    cris_json.append(json.dumps(trial))\n"
   ]
  },
  {
   "cell_type": "code",
   "execution_count": 22,
   "metadata": {},
   "outputs": [
    {
     "name": "stdout",
     "output_type": "stream",
     "text": [
      "{\"main\": {\"trial_id\": \"KCT0003420\", \"reg_name\": \"CRIS\", \"date_registration\": \"11/01/2019\", \"data_update\": \"23/11/2018\", \"protocol_id\": \"HYI-15-197-2\", \"primary_sponsor\": {\"prim_sponsor_en\": \"Hanyang University Seoul Hospital\"}, \"scientific_title\": {\"sci_title_en\": \"Effect of Computer-Assisted Cognitive Rehabilitation in Unilateral Spatial Neglect Patients with Brain Damage\"}, \"scientific_acronym\": \"Computer-Assisted Cognitive Rehabilitation(CACR), Conventional Rehabilitation(CR)\", \"date_enrolment\": \"04/01/2016\", \"date_completion\": null, \"recruitment_status\": \"Completed\", \"study_type\": \"Interventional Study\", \"phase\": \"Not applicable\", \"i_code\": \"Others\", \"inclusion_criteria\": {\"inc_criteria_en\": \"The inclusion criteria were as follows: patients who were diagnosed with brain damage or brain metabolic diseases by computerized tomography or magnetic resonance imaging; patients with suggested or indicated (moderate/severe) unilateral spatial neglect who under responding less than normal range of response behavior, classified by age and each response on the left or right side, as assessed by motor free visual perception test (MVPT);   sufficient cognition to participate in the training as assessed by a Mini-Mental State Examination (MMSE), score of 18 or higher.\"}, \"exclusion_criteria\": {\"exc_criteria_en\": \"Those who met the participation criteria but did not agree to participate in the study.\"}, \"hc_code\": null}, \"primary_outcome\": {\"prim_outcome_en\": [\"Motor-Free Visual Perception Test (MVPT)\", \"Line Bisection Test (LBT)\"]}, \"secondary_sponsor\": null, \"source_support\": {\"source_name_en\": \"Hanyang University Seoul Hospital\"}}\n"
     ]
    }
   ],
   "source": [
    "print(cris_trials[62])"
   ]
  },
  {
   "cell_type": "code",
   "execution_count": 33,
   "metadata": {},
   "outputs": [
    {
     "name": "stdout",
     "output_type": "stream",
     "text": [
      "{'main': {'trial_id': 'KCT0003420', 'reg_name': 'CRIS', 'date_registration': '11/01/2019', 'data_update': '23/11/2018', 'protocol_id': 'HYI-15-197-2', 'primary_sponsor': {'prim_sponsor_en': 'Hanyang University Seoul Hospital'}, 'scientific_title': {'sci_title_en': 'Effect of Computer-Assisted Cognitive Rehabilitation in Unilateral Spatial Neglect Patients with Brain Damage'}, 'scientific_acronym': 'Computer-Assisted Cognitive Rehabilitation(CACR), Conventional Rehabilitation(CR)', 'date_enrolment': '04/01/2016', 'date_completion': None, 'recruitment_status': 'Completed', 'study_type': 'Interventional Study', 'phase': 'Not applicable', 'i_code': 'Others', 'inclusion_criteria': {'inc_criteria_en': 'The inclusion criteria were as follows: patients who were diagnosed with brain damage or brain metabolic diseases by computerized tomography or magnetic resonance imaging; patients with suggested or indicated (moderate/severe) unilateral spatial neglect who under responding less than normal range of response behavior, classified by age and each response on the left or right side, as assessed by motor free visual perception test (MVPT);   sufficient cognition to participate in the training as assessed by a Mini-Mental State Examination (MMSE), score of 18 or higher.'}, 'exclusion_criteria': {'exc_criteria_en': 'Those who met the participation criteria but did not agree to participate in the study.'}, 'hc_code': None}, 'primary_outcome': {'prim_outcome_en': ['Motor-Free Visual Perception Test (MVPT)', 'Line Bisection Test (LBT)']}, 'secondary_sponsor': None, 'source_support': {'source_name_en': 'Hanyang University Seoul Hospital'}}\n"
     ]
    }
   ],
   "source": [
    "test = json.loads(cris_trials[62])\n",
    "print(test)"
   ]
  },
  {
   "cell_type": "code",
   "execution_count": 38,
   "metadata": {},
   "outputs": [
    {
     "name": "stdout",
     "output_type": "stream",
     "text": [
      "KCT0003420\n"
     ]
    }
   ],
   "source": [
    "test_new = test['main']['trial_id']\n",
    "print(test_new)"
   ]
  },
  {
   "cell_type": "code",
   "execution_count": null,
   "metadata": {},
   "outputs": [],
   "source": [
    "#creates a csv with no headers and a single column with all trials in json in their own row.\n",
    "\n",
    "import csv\n",
    "with open('test.csv','w', newline = '')as test_csv:\n",
    "    writer=csv.writer(test_csv)\n",
    "    for val in cris_trials:\n",
    "        writer.writerow([val])"
   ]
  },
  {
   "cell_type": "code",
   "execution_count": null,
   "metadata": {},
   "outputs": [],
   "source": [
    "#next up:\n",
    "#1. The CRIS XML doesn't include anything that tells us about results status\n",
    "#but we can automate getting another data download of just trials with results\n",
    "#then we can get a list of those trial ids, and create indicator variables with them"
   ]
  }
 ],
 "metadata": {
  "kernelspec": {
   "display_name": "Python 3",
   "language": "python",
   "name": "python3"
  },
  "language_info": {
   "codemirror_mode": {
    "name": "ipython",
    "version": 3
   },
   "file_extension": ".py",
   "mimetype": "text/x-python",
   "name": "python",
   "nbconvert_exporter": "python",
   "pygments_lexer": "ipython3",
   "version": "3.6.7"
  }
 },
 "nbformat": 4,
 "nbformat_minor": 2
}
