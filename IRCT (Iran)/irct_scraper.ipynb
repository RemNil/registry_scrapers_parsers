{
 "cells": [
  {
   "cell_type": "code",
   "execution_count": null,
   "metadata": {},
   "outputs": [],
   "source": [
    "from requests import get\n",
    "from bs4 import BeautifulSoup\n",
    "import xmltodict\n",
    "import re\n",
    "try:\n",
    "    get_ipython\n",
    "    from tqdm.notebook import tqdm\n",
    "except NameError:\n",
    "    from tqdm import tqdm\n",
    "from time import sleep\n",
    "from random import randint\n",
    "    \n",
    "import urllib3\n",
    "urllib3.disable_warnings(urllib3.exceptions.InsecureRequestWarning)\n",
    "\n",
    "def get_xml(num):\n",
    "    r = get('https://www.irct.ir/trial/{}/xml'.format(num))\n",
    "    if r.status_code == 404:\n",
    "        sleep(1)\n",
    "        return None\n",
    "    else:\n",
    "        trial_dict = xmltodict.parse(r.content, dict_constructor=dict)['trials']['trial']\n",
    "        sleep(1)\n",
    "        return trial_dict\n",
    "\n",
    "def get_url(url):\n",
    "    response = get(url, verify = False)\n",
    "    html = response.content\n",
    "    soup = BeautifulSoup(html, \"html.parser\")\n",
    "    return soup"
   ]
  },
  {
   "cell_type": "code",
   "execution_count": null,
   "metadata": {},
   "outputs": [],
   "source": [
    "search_url = 'https://www.irct.ir/search/result?query=%2A&filters=%7B%22perPage%22%3A%22100%22%2C%22sortBy%22%3A%22relevance%22%2C%22displayFormat%22%3A%22brief%22%2C%22selected%22%3A%5B%5D%7D&page={}'"
   ]
  },
  {
   "cell_type": "code",
   "execution_count": null,
   "metadata": {},
   "outputs": [],
   "source": [
    "first_page = get_url(search_url.format(1))\n",
    "max_trial_count = first_page.find('div', {'class':'result-count'}).find_all('strong')[-1].text.strip()\n",
    "max_page_count = first_page.find('ul', {'class': 'pagination'}).find_all('li')[-2].text.strip()\n",
    "pages = list(range(1,int(max_page_count)+1))\n",
    "#pages = [1,2]"
   ]
  },
  {
   "cell_type": "code",
   "execution_count": null,
   "metadata": {},
   "outputs": [],
   "source": [
    "trial_nums = []\n",
    "\n",
    "for page in tqdm(pages):\n",
    "    url_ids = get_url(search_url.format(page)) \n",
    "    for link_id in soup.find_all('div', {'class': 'result-title'}):\n",
    "        trial_nums.append(re.findall(digits, link_id.a.get('href'))[0])"
   ]
  },
  {
   "cell_type": "code",
   "execution_count": null,
   "metadata": {},
   "outputs": [],
   "source": [
    "trial_dicts = []\n",
    "\n",
    "for t in tqdm(trial_nums):\n",
    "    trial_dicts.append(get_xml(t))\n",
    "\n",
    "only_trials = [i for i in trial_dicts if i]\n",
    "all_keys = set().union(*(t.keys() for t in only_trials))\n",
    "labels = list(all_keys)"
   ]
  },
  {
   "cell_type": "code",
   "execution_count": null,
   "metadata": {},
   "outputs": [],
   "source": [
    "from datetime import date\n",
    "import csv\n",
    "\n",
    "def irct_csv():\n",
    "    with open('irct - ' + str(date.today()) + '.csv','w', newline = '', encoding='utf-8') as irct_csv:\n",
    "        writer=csv.DictWriter(irct_csv,fieldnames=labels)\n",
    "        writer.writeheader()\n",
    "        writer.writerows(only_trials)\n"
   ]
  },
  {
   "cell_type": "code",
   "execution_count": null,
   "metadata": {},
   "outputs": [],
   "source": [
    "irct_csv()"
   ]
  }
 ],
 "metadata": {
  "jupytext": {
   "formats": "ipynb,py:light"
  },
  "kernelspec": {
   "display_name": "Python 3",
   "language": "python",
   "name": "python3"
  },
  "language_info": {
   "codemirror_mode": {
    "name": "ipython",
    "version": 3
   },
   "file_extension": ".py",
   "mimetype": "text/x-python",
   "name": "python",
   "nbconvert_exporter": "python",
   "pygments_lexer": "ipython3",
   "version": "3.7.6"
  }
 },
 "nbformat": 4,
 "nbformat_minor": 4
}
