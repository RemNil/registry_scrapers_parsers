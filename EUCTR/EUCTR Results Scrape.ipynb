{
 "cells": [
  {
   "cell_type": "code",
   "execution_count": 1,
   "metadata": {},
   "outputs": [],
   "source": [
    "from requests import get\n",
    "from bs4 import BeautifulSoup\n",
    "import re\n",
    "from time import sleep\n",
    "from time import time\n",
    "from random import randint\n",
    "from IPython.core.display import clear_output\n",
    "from warnings import warn\n",
    "import pandas as pd\n",
    "import random"
   ]
  },
  {
   "cell_type": "code",
   "execution_count": 2,
   "metadata": {},
   "outputs": [
    {
     "name": "stderr",
     "output_type": "stream",
     "text": [
      "C:\\Users\\ndevito\\Anaconda3\\lib\\site-packages\\urllib3\\connectionpool.py:847: InsecureRequestWarning: Unverified HTTPS request is being made. Adding certificate verification is strongly advised. See: https://urllib3.readthedocs.io/en/latest/advanced-usage.html#ssl-warnings\n",
      "  InsecureRequestWarning)\n"
     ]
    }
   ],
   "source": [
    "#pull single page to test and get max page number\n",
    "url = 'https://www.clinicaltrialsregister.eu/ctr-search/search?query=&resultsstatus=trials-with-results&page1'\n",
    "response = get(url, verify = False)\n",
    "html = response.content\n",
    "\n",
    "#what does our parsed html look like?\n",
    "soup = BeautifulSoup(html, \"html.parser\")"
   ]
  },
  {
   "cell_type": "code",
   "execution_count": 3,
   "metadata": {},
   "outputs": [
    {
     "name": "stdout",
     "output_type": "stream",
     "text": [
      "574\n"
     ]
    }
   ],
   "source": [
    "#gets max page number\n",
    "number_of_pages = soup.find('div', {'class': 'margin-bottom: 6px;'})\n",
    "max_page_link = str(number_of_pages.find_all('a')[-1])\n",
    "max_page = re.findall(r'\\d+', max_page_link)[0]\n",
    "print(max_page)"
   ]
  },
  {
   "cell_type": "code",
   "execution_count": 4,
   "metadata": {},
   "outputs": [],
   "source": [
    "#setting up variables for page URLs\n",
    "euctr_base_url = 'https://www.clinicaltrialsregister.eu'\n",
    "euctr_results_search_page = '/ctr-search/search?query=&resultsstatus=trials-with-results&page='"
   ]
  },
  {
   "cell_type": "code",
   "execution_count": 11,
   "metadata": {},
   "outputs": [
    {
     "name": "stdout",
     "output_type": "stream",
     "text": [
      "574\n"
     ]
    }
   ],
   "source": [
    "#variables needed for first scrape\n",
    "pages = [str(i) for i in range(1,int(max_page)+1)]\n",
    "trial_ids = []\n",
    "results_urls = []\n",
    "start_time = time()\n",
    "requests = 0\n",
    "print(pages[-1])"
   ]
  },
  {
   "cell_type": "code",
   "execution_count": 12,
   "metadata": {},
   "outputs": [
    {
     "name": "stdout",
     "output_type": "stream",
     "text": [
      "Request: 574; Frequency: 3.640387518614317 requests/s\n"
     ]
    },
    {
     "name": "stderr",
     "output_type": "stream",
     "text": [
      "C:\\Users\\ndevito\\Anaconda3\\lib\\site-packages\\urllib3\\connectionpool.py:847: InsecureRequestWarning: Unverified HTTPS request is being made. Adding certificate verification is strongly advised. See: https://urllib3.readthedocs.io/en/latest/advanced-usage.html#ssl-warnings\n",
      "  InsecureRequestWarning)\n"
     ]
    }
   ],
   "source": [
    "#this crawls every trial that comes up with a search result of trials with results on the EUCTR\n",
    "\n",
    "for page in pages:\n",
    "    \n",
    "    #make this request\n",
    "    response = get(euctr_base_url + euctr_results_search_page + page, verify = False)\n",
    "    \n",
    "    #pause to look like a human\n",
    "    #sleep(random.uniform(0,0.2)) #not needed at the moment for this\n",
    "    \n",
    "    #mointor the requests to ensure everything is working\n",
    "    requests += 1\n",
    "    elapsed_time = time() - start_time\n",
    "    print('Request: {}; Frequency: {} requests/s'.format(requests, requests/elapsed_time))\n",
    "    clear_output(wait = True)\n",
    "    \n",
    "    # Throw a warning for a non-200 status code\n",
    "    if response.status_code != 200:\n",
    "        warn('Request: {}; Status code: {}'.format(requests, response.status_code))\n",
    "\n",
    "    #Break the looop if we exceed the number of requests which will need to change when i do full scrape\n",
    "    if requests > int(max_page):\n",
    "        warn('Number of requests was greater than expected.')  \n",
    "        break \n",
    "    \n",
    "    #Parse the requests\n",
    "    page_html = BeautifulSoup(response.text, 'html.parser')\n",
    "    \n",
    "    #select all the trial tables\n",
    "    trial_tables = page_html.find_all('table', {'class': 'result'})\n",
    "    \n",
    "    #get the trial id and the trial url for each thing\n",
    "    for trial_table in trial_tables:\n",
    "        trial_id = trial_table.input.get('value')\n",
    "        trial_ids.append(trial_id)\n",
    "        url = euctr_base_url + trial_table.find_all('a')[-1].get('href')\n",
    "        results_urls.append(url)"
   ]
  },
  {
   "cell_type": "code",
   "execution_count": 23,
   "metadata": {},
   "outputs": [],
   "source": [
    "results_trial_id = []\n",
    "global_end_of_trial_date = []\n",
    "first_publication_date = []\n",
    "current_publication_date = []\n",
    "results_version = []\n",
    "results_type = []\n",
    "start_time_2 = time()\n",
    "requests_2 = 0\n",
    "\n",
    "def tds_strip(td_table, td):\n",
    "    return td_table[td].div.get_text().strip()"
   ]
  },
  {
   "cell_type": "code",
   "execution_count": 35,
   "metadata": {},
   "outputs": [
    {
     "name": "stderr",
     "output_type": "stream",
     "text": [
      "C:\\Users\\ndevito\\Anaconda3\\lib\\site-packages\\urllib3\\connectionpool.py:847: InsecureRequestWarning: Unverified HTTPS request is being made. Adding certificate verification is strongly advised. See: https://urllib3.readthedocs.io/en/latest/advanced-usage.html#ssl-warnings\n",
      "  InsecureRequestWarning)\n"
     ]
    },
    {
     "name": "stdout",
     "output_type": "stream",
     "text": [
      "Request: 11476; Frequency: 0.649694465047816 requests/s\n"
     ]
    }
   ],
   "source": [
    "#this takes the urls from the above scrape, and crawls them for results information\n",
    "\n",
    "for result_url in results_urls: \n",
    "#if scraper fails, see where it failed below with results_df.tail() and add [lastindex:] to the end of results_urls\n",
    "    \n",
    "    #make this request\n",
    "    response = get(result_url, verify = False)\n",
    "    \n",
    "    #pause to look like a human\n",
    "    sleep(random.uniform(0,0.5)) #probably not needed but keeping in for now\n",
    "    \n",
    "    #mointor the requests to ensure everything is working\n",
    "    requests_2 += 1\n",
    "    elapsed_time = time() - start_time_2\n",
    "    print('Request: {}; Frequency: {} requests/s'.format(requests_2, requests_2/elapsed_time))\n",
    "    clear_output(wait = True)\n",
    "    \n",
    "    # Throw a warning for a non-200 status code\n",
    "    if response.status_code != 200:\n",
    "        warn('Request: {}; Status code: {}'.format(requests_2, response.status_code))\n",
    "\n",
    "    #Break the looop if we exceed the number of requests which will need to change when i do full scrape\n",
    "    if requests_2 > len(results_urls):\n",
    "        warn('Number of requests was greater than expected.')  \n",
    "        break \n",
    "    \n",
    "    #Parse the requests\n",
    "    page_html = BeautifulSoup(response.text, 'html.parser')\n",
    "    \n",
    "    #select all the results tables\n",
    "    leg_text = page_html.find('div', id = 'synopsisLegislationNote')\n",
    "    trial_tables = page_html.find_all('table')[4]\n",
    "    td_value = trial_tables.find_all('td', class_ = 'valueColumn')\n",
    "    td_label = trial_tables.find_all('td', class_ = 'labelColumn') \n",
    "    \n",
    "    if td_label[-1].div.get_text().strip() == 'Summary report(s)' and leg_text is not None:\n",
    "        trial_id = trial_tables.find_all('a')[0].get_text()\n",
    "        results_trial_id.append(trial_id)\n",
    "        global_end_date = tds_strip(td_value,3)\n",
    "        global_end_of_trial_date.append(global_end_date)\n",
    "        first_pub = tds_strip(td_value,11)\n",
    "        first_publication_date.append(first_pub)\n",
    "        current_pub = tds_strip(td_value,10)\n",
    "        current_publication_date.append(current_pub)\n",
    "        version = td_value[9].get_text().strip()\n",
    "        results_version.append(version)\n",
    "        results_type.append(\"Document\")\n",
    "    \n",
    "    elif td_label[-1].div.get_text().strip() == 'Summary report(s)' and leg_text is None:\n",
    "        trial_id = trial_tables.find_all('a')[0].get_text()\n",
    "        results_trial_id.append(trial_id)\n",
    "        global_end_date = tds_strip(td_value,3)\n",
    "        global_end_of_trial_date.append(global_end_date)\n",
    "        first_pub = tds_strip(td_value,7)\n",
    "        first_publication_date.append(first_pub)\n",
    "        current_pub = tds_strip(td_value,6)\n",
    "        current_publication_date.append(current_pub)\n",
    "        version = td_value[5].get_text().strip()\n",
    "        results_version.append(version)\n",
    "        results_type.append(\"Mixed\")\n",
    "        \n",
    "    else:\n",
    "        trial_id = trial_tables.find_all('a')[0].get_text()\n",
    "        results_trial_id.append(trial_id)\n",
    "        global_end_date = tds_strip(td_value,3)\n",
    "        global_end_of_trial_date.append(global_end_date)\n",
    "        first_pub = tds_strip(td_value,7)\n",
    "        first_publication_date.append(first_pub)\n",
    "        current_pub = tds_strip(td_value,6)\n",
    "        current_publication_date.append(current_pub)\n",
    "        version = td_value[5].get_text().strip()\n",
    "        results_version.append(version)\n",
    "        results_type.append(\"Tabular\")"
   ]
  },
  {
   "cell_type": "code",
   "execution_count": 59,
   "metadata": {},
   "outputs": [
    {
     "data": {
      "text/html": [
       "<div>\n",
       "<style scoped>\n",
       "    .dataframe tbody tr th:only-of-type {\n",
       "        vertical-align: middle;\n",
       "    }\n",
       "\n",
       "    .dataframe tbody tr th {\n",
       "        vertical-align: top;\n",
       "    }\n",
       "\n",
       "    .dataframe thead th {\n",
       "        text-align: right;\n",
       "    }\n",
       "</style>\n",
       "<table border=\"1\" class=\"dataframe\">\n",
       "  <thead>\n",
       "    <tr style=\"text-align: right;\">\n",
       "      <th></th>\n",
       "      <th>trial_id</th>\n",
       "      <th>global_trial_end_date</th>\n",
       "      <th>first_pub_date</th>\n",
       "      <th>current_pub_date</th>\n",
       "      <th>version</th>\n",
       "      <th>results_type</th>\n",
       "    </tr>\n",
       "  </thead>\n",
       "  <tbody>\n",
       "    <tr>\n",
       "      <th>11471</th>\n",
       "      <td>2017-000952-24</td>\n",
       "      <td>28 Feb 2018</td>\n",
       "      <td>07 Feb 2019</td>\n",
       "      <td>07 Feb 2019</td>\n",
       "      <td>v1(current)</td>\n",
       "      <td>Tabular</td>\n",
       "    </tr>\n",
       "    <tr>\n",
       "      <th>11472</th>\n",
       "      <td>2010-024132-41</td>\n",
       "      <td></td>\n",
       "      <td>16 Mar 2017</td>\n",
       "      <td>16 Mar 2017</td>\n",
       "      <td>v1(current)</td>\n",
       "      <td>Tabular</td>\n",
       "    </tr>\n",
       "    <tr>\n",
       "      <th>11473</th>\n",
       "      <td>2010-021978-11</td>\n",
       "      <td>13 Apr 2016</td>\n",
       "      <td>29 Apr 2017</td>\n",
       "      <td>26 Aug 2017</td>\n",
       "      <td>v3(current)</td>\n",
       "      <td>Tabular</td>\n",
       "    </tr>\n",
       "    <tr>\n",
       "      <th>11474</th>\n",
       "      <td>2014-001498-15</td>\n",
       "      <td>14 Mar 2016</td>\n",
       "      <td>24 Nov 2016</td>\n",
       "      <td>24 Nov 2016</td>\n",
       "      <td>v1(current)</td>\n",
       "      <td>Tabular</td>\n",
       "    </tr>\n",
       "    <tr>\n",
       "      <th>11475</th>\n",
       "      <td>2010-019630-28</td>\n",
       "      <td>13 Nov 2015</td>\n",
       "      <td>17 Feb 2017</td>\n",
       "      <td>17 Feb 2017</td>\n",
       "      <td>v1(current)</td>\n",
       "      <td>Tabular</td>\n",
       "    </tr>\n",
       "  </tbody>\n",
       "</table>\n",
       "</div>"
      ],
      "text/plain": [
       "             trial_id global_trial_end_date first_pub_date current_pub_date  \\\n",
       "11471  2017-000952-24           28 Feb 2018    07 Feb 2019      07 Feb 2019   \n",
       "11472  2010-024132-41                          16 Mar 2017      16 Mar 2017   \n",
       "11473  2010-021978-11           13 Apr 2016    29 Apr 2017      26 Aug 2017   \n",
       "11474  2014-001498-15           14 Mar 2016    24 Nov 2016      24 Nov 2016   \n",
       "11475  2010-019630-28           13 Nov 2015    17 Feb 2017      17 Feb 2017   \n",
       "\n",
       "           version results_type  \n",
       "11471  v1(current)      Tabular  \n",
       "11472  v1(current)      Tabular  \n",
       "11473  v3(current)      Tabular  \n",
       "11474  v1(current)      Tabular  \n",
       "11475  v1(current)      Tabular  "
      ]
     },
     "execution_count": 59,
     "metadata": {},
     "output_type": "execute_result"
    }
   ],
   "source": [
    "results_df = pd.DataFrame({'trial_id': results_trial_id,\n",
    "                       'global_trial_end_date': global_end_of_trial_date,\n",
    "                       'first_pub_date': first_publication_date,\n",
    "                       'current_pub_date': current_publication_date,\n",
    "                       'version': results_version,\n",
    "                       'results_type': results_type\n",
    "                          })\n",
    "\n",
    "results_df.tail()"
   ]
  },
  {
   "cell_type": "code",
   "execution_count": 60,
   "metadata": {},
   "outputs": [],
   "source": [
    "#some data cleaning\n",
    "\n",
    "for index, row in results_df.iterrows():\n",
    "    if row.first_pub_date == 'No':\n",
    "        results_df.at[index, 'first_pub_date'] = None\n",
    "        results_df.at[index, 'current_pub_date'] = None\n",
    "        results_df.at[index, 'version'] = None\n",
    "        results_df.at[index, 'results_type'] = 'None Available'"
   ]
  },
  {
   "cell_type": "code",
   "execution_count": 61,
   "metadata": {},
   "outputs": [],
   "source": [
    "#aates to datetime\n",
    "\n",
    "results_df['global_trial_end_date'] = pd.to_datetime(results_df['global_trial_end_date'])\n",
    "results_df['first_pub_date'] = pd.to_datetime(results_df['first_pub_date'])\n",
    "results_df['current_pub_date'] = pd.to_datetime(results_df['current_pub_date'])"
   ]
  },
  {
   "cell_type": "code",
   "execution_count": 62,
   "metadata": {},
   "outputs": [
    {
     "data": {
      "text/plain": [
       "trial_id                         object\n",
       "global_trial_end_date    datetime64[ns]\n",
       "first_pub_date           datetime64[ns]\n",
       "current_pub_date         datetime64[ns]\n",
       "version                          object\n",
       "results_type                     object\n",
       "dtype: object"
      ]
     },
     "execution_count": 62,
     "metadata": {},
     "output_type": "execute_result"
    }
   ],
   "source": [
    "results_df.dtypes"
   ]
  },
  {
   "cell_type": "code",
   "execution_count": 64,
   "metadata": {},
   "outputs": [
    {
     "data": {
      "text/html": [
       "<div>\n",
       "<style scoped>\n",
       "    .dataframe tbody tr th:only-of-type {\n",
       "        vertical-align: middle;\n",
       "    }\n",
       "\n",
       "    .dataframe tbody tr th {\n",
       "        vertical-align: top;\n",
       "    }\n",
       "\n",
       "    .dataframe thead th {\n",
       "        text-align: right;\n",
       "    }\n",
       "</style>\n",
       "<table border=\"1\" class=\"dataframe\">\n",
       "  <thead>\n",
       "    <tr style=\"text-align: right;\">\n",
       "      <th></th>\n",
       "      <th>trial_id</th>\n",
       "      <th>global_trial_end_date</th>\n",
       "      <th>first_pub_date</th>\n",
       "      <th>current_pub_date</th>\n",
       "      <th>version</th>\n",
       "      <th>results_type</th>\n",
       "    </tr>\n",
       "  </thead>\n",
       "  <tbody>\n",
       "    <tr>\n",
       "      <th>11471</th>\n",
       "      <td>2017-000952-24</td>\n",
       "      <td>2018-02-28</td>\n",
       "      <td>2019-02-07</td>\n",
       "      <td>2019-02-07</td>\n",
       "      <td>v1(current)</td>\n",
       "      <td>Tabular</td>\n",
       "    </tr>\n",
       "    <tr>\n",
       "      <th>11472</th>\n",
       "      <td>2010-024132-41</td>\n",
       "      <td>NaT</td>\n",
       "      <td>2017-03-16</td>\n",
       "      <td>2017-03-16</td>\n",
       "      <td>v1(current)</td>\n",
       "      <td>Tabular</td>\n",
       "    </tr>\n",
       "    <tr>\n",
       "      <th>11473</th>\n",
       "      <td>2010-021978-11</td>\n",
       "      <td>2016-04-13</td>\n",
       "      <td>2017-04-29</td>\n",
       "      <td>2017-08-26</td>\n",
       "      <td>v3(current)</td>\n",
       "      <td>Tabular</td>\n",
       "    </tr>\n",
       "    <tr>\n",
       "      <th>11474</th>\n",
       "      <td>2014-001498-15</td>\n",
       "      <td>2016-03-14</td>\n",
       "      <td>2016-11-24</td>\n",
       "      <td>2016-11-24</td>\n",
       "      <td>v1(current)</td>\n",
       "      <td>Tabular</td>\n",
       "    </tr>\n",
       "    <tr>\n",
       "      <th>11475</th>\n",
       "      <td>2010-019630-28</td>\n",
       "      <td>2015-11-13</td>\n",
       "      <td>2017-02-17</td>\n",
       "      <td>2017-02-17</td>\n",
       "      <td>v1(current)</td>\n",
       "      <td>Tabular</td>\n",
       "    </tr>\n",
       "  </tbody>\n",
       "</table>\n",
       "</div>"
      ],
      "text/plain": [
       "             trial_id global_trial_end_date first_pub_date current_pub_date  \\\n",
       "11471  2017-000952-24            2018-02-28     2019-02-07       2019-02-07   \n",
       "11472  2010-024132-41                   NaT     2017-03-16       2017-03-16   \n",
       "11473  2010-021978-11            2016-04-13     2017-04-29       2017-08-26   \n",
       "11474  2014-001498-15            2016-03-14     2016-11-24       2016-11-24   \n",
       "11475  2010-019630-28            2015-11-13     2017-02-17       2017-02-17   \n",
       "\n",
       "           version results_type  \n",
       "11471  v1(current)      Tabular  \n",
       "11472  v1(current)      Tabular  \n",
       "11473  v3(current)      Tabular  \n",
       "11474  v1(current)      Tabular  \n",
       "11475  v1(current)      Tabular  "
      ]
     },
     "execution_count": 64,
     "metadata": {},
     "output_type": "execute_result"
    }
   ],
   "source": [
    "results_df.tail()"
   ]
  },
  {
   "cell_type": "code",
   "execution_count": 58,
   "metadata": {},
   "outputs": [],
   "source": [
    "#make a csv\n",
    "results_df.to_csv('euctr_results_scrape.csv')"
   ]
  },
  {
   "cell_type": "code",
   "execution_count": 57,
   "metadata": {},
   "outputs": [],
   "source": []
  }
 ],
 "metadata": {
  "kernelspec": {
   "display_name": "Python 3",
   "language": "python",
   "name": "python3"
  },
  "language_info": {
   "codemirror_mode": {
    "name": "ipython",
    "version": 3
   },
   "file_extension": ".py",
   "mimetype": "text/x-python",
   "name": "python",
   "nbconvert_exporter": "python",
   "pygments_lexer": "ipython3",
   "version": "3.7.1"
  }
 },
 "nbformat": 4,
 "nbformat_minor": 2
}
