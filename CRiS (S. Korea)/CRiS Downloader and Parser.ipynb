{
 "cells": [
  {
   "cell_type": "code",
   "execution_count": 1,
   "metadata": {},
   "outputs": [],
   "source": [
    "from selenium import webdriver\n",
    "from selenium.webdriver.common.keys import Keys\n",
    "from selenium.webdriver.common.by import By\n",
    "from selenium.webdriver.support.ui import Select\n",
    "from time import sleep\n",
    "from time import time\n",
    "import os\n",
    "import xmltodict\n",
    "import json\n",
    "import re\n",
    "from pathlib import Path\n",
    "import platform\n",
    "\n",
    "platform = platform.platform()\n",
    "cwd = os.getcwd()\n",
    "download_path = os.path.join(cwd,'CRiS Downloads')\n",
    "#adjust this to fit your specific file structure \n",
    "parent = str(Path(cwd).parents[0]) "
   ]
  },
  {
   "cell_type": "code",
   "execution_count": 2,
   "metadata": {},
   "outputs": [],
   "source": [
    "if \"Darwin\" in platform:\n",
    "    chrome_driver = os.path.join(parent, 'Drivers', 'chromedriver')\n",
    "elif \"Windows\" in platform:\n",
    "    chrome_driver = os.path.join(parent, 'Drivers', 'chromedriver.exe')\n",
    "else:\n",
    "    print(\"No OS/Chromedriver match. OS: {}\".format(platform))"
   ]
  },
  {
   "cell_type": "code",
   "execution_count": 3,
   "metadata": {},
   "outputs": [],
   "source": [
    "chromeOptions = webdriver.ChromeOptions()\n",
    "prefs = {\"download.default_directory\" : download_path,\n",
    "        'disk-cache-size': 4096,\n",
    "        'safebrowsing.enabled': 'false'}\n",
    "chromeOptions.add_experimental_option(\"prefs\",prefs)\n",
    "driver = webdriver.Chrome(executable_path=chrome_driver, options=chromeOptions)\n",
    "driver.get('http://cris.nih.go.kr/cris/en/search/basic_search.jsp')\n",
    "driver.find_element_by_xpath(\"//input[@alt='Search']\").click()\n",
    "sleep(3)\n",
    "total_trials = (driver.find_element_by_xpath(\"//strong[@class='searchtbtnb']\")).text\n",
    "driver.find_element_by_xpath(\"//img[@alt='Download']\").click()\n",
    "sleep(2)\n",
    "handles = driver.window_handles\n",
    "driver.switch_to.window(handles[-1])\n",
    "select = Select(driver.find_element_by_id('data_dtype'))\n",
    "select.select_by_value('xml')\n",
    "driver.find_element_by_xpath(\"//img[@alt='confirm']\").click()\n",
    "sleep(5)\n",
    "\n",
    "dl_check = 0\n",
    "start_time = time()\n",
    "while dl_check == 0 and time() - start_time < 600:\n",
    "    count = 0\n",
    "    for file in os.listdir(download_path):\n",
    "        if file.endswith(\".xml\"):\n",
    "            count = 1\n",
    "        else:\n",
    "            count = 0\n",
    "    if count == 1:\n",
    "        dl_check = 1\n",
    "        driver.quit()\n",
    "    else:\n",
    "        dl_check = 0\n",
    "        sleep(5)"
   ]
  },
  {
   "cell_type": "code",
   "execution_count": 4,
   "metadata": {},
   "outputs": [
    {
     "name": "stdout",
     "output_type": "stream",
     "text": [
      "['cris_research_2019-10-31_en.xml']\n",
      "cris_research_2019-10-31_en.xml\n"
     ]
    }
   ],
   "source": [
    "print(os.listdir(download_path))\n",
    "file_name = ''\n",
    "for file in os.listdir(download_path):\n",
    "    if file.endswith('.xml'):\n",
    "        file_name = file\n",
    "print(file_name)"
   ]
  },
  {
   "cell_type": "code",
   "execution_count": 6,
   "metadata": {},
   "outputs": [],
   "source": [
    "#there is, as far as I can tell, a single instance of a problematic html element (&#1;) making the XML invalid. \n",
    "#Upon Investigation, it appears to be completely inconsequential so rather than messing around with encoding, \n",
    "#much easier to just delete that 1 instance\n",
    "\n",
    "\n",
    "with open(download_path + '/' + file_name, 'r', encoding=\"utf8\") as xmlstring:\n",
    "    xml_fixed = re.sub(r'&#1;', '', xmlstring.read())"
   ]
  },
  {
   "cell_type": "code",
   "execution_count": 7,
   "metadata": {},
   "outputs": [
    {
     "name": "stdout",
     "output_type": "stream",
     "text": [
      "CRIS Download/Parse Successful: 4383 records\n"
     ]
    }
   ],
   "source": [
    "cris_trials = []\n",
    "\n",
    "trials = xmltodict.parse(xml_fixed)\n",
    "for trial in trials['trials']['trial']:\n",
    "    cris_trials.append(json.dumps(trial))\n",
    "\n",
    "if len(cris_trials) == int(total_trials):\n",
    "    print(\"CRIS Download/Parse Successful: {} records\".format(total_trials))\n",
    "else:\n",
    "    print(\"Trial Differential: CRIS Contains {}, Scrape Contains {}\".format(total_trials, len(cris_trials)))\n"
   ]
  },
  {
   "cell_type": "code",
   "execution_count": 8,
   "metadata": {},
   "outputs": [
    {
     "name": "stdout",
     "output_type": "stream",
     "text": [
      "{\"main\": {\"trial_id\": \"KCT0004343\", \"reg_name\": \"CRIS\", \"date_registration\": \"17/10/2019\", \"data_update\": \"02/10/2019\", \"protocol_id\": \"EUMC 2019-04-031-003\", \"primary_sponsor\": {\"prim_sponsor_en\": \"Ewha Womans University Medical Center\"}, \"scientific_title\": {\"sci_title_en\": \"The comparison of pulmonary function in cervical interlaminar epidural steroid injection with ropivacaine : a randomized controlled trial\"}, \"scientific_acronym\": null, \"date_enrolment\": \"26/09/2019\", \"date_completion\": null, \"recruitment_status\": \"Recruiting\", \"study_type\": \"Interventional Study\", \"phase\": \"Not applicable\", \"i_code\": \"/Procedure/Surgery\", \"inclusion_criteria\": {\"inc_criteria_en\": \"Patients who visited the Ewha Womans University Mokdong Hospital Pain Clinic, aged 19 to 70 years old, and diagnosed with cervical herniated nucleus pulposus and spinal stenosis due to questionnaire, neurological examination, and radiographic findings. The patients undergoing cervical interlaminar epidural steroid spinal injection.\"}, \"exclusion_criteria\": {\"exc_criteria_en\": \"Patients who have undergone cervical interlaminar epidural steroid spinal injection within 4 weeks prior to the procedure, taken oral steroids, anticoagulants, or drugs that affect lung function, ropivacaine or steroid hypersensitivity, cognitive dysfunction, lung function disorder, liver function disorder. \\nIf the patient or guardian disagree with the study, they are also excluded from the study.\"}, \"hc_code\": \"Cervical Herniated nucleus pulposus, cervical spinal stenosis\"}, \"primary_outcome\": {\"prim_outcome_en\": [\"Forced expiratory volume in one second (FEV1), Forced vital capacity (FVC), Peak expiratory flow rate (PEFR)\", \"VAS score\"]}, \"secondary_sponsor\": null, \"source_support\": {\"source_name_en\": \"Ewha Womans University Medical Center\"}}\n"
     ]
    }
   ],
   "source": [
    "print(cris_trials[62])"
   ]
  },
  {
   "cell_type": "code",
   "execution_count": 9,
   "metadata": {},
   "outputs": [
    {
     "name": "stdout",
     "output_type": "stream",
     "text": [
      "{'main': {'trial_id': 'KCT0004343', 'reg_name': 'CRIS', 'date_registration': '17/10/2019', 'data_update': '02/10/2019', 'protocol_id': 'EUMC 2019-04-031-003', 'primary_sponsor': {'prim_sponsor_en': 'Ewha Womans University Medical Center'}, 'scientific_title': {'sci_title_en': 'The comparison of pulmonary function in cervical interlaminar epidural steroid injection with ropivacaine : a randomized controlled trial'}, 'scientific_acronym': None, 'date_enrolment': '26/09/2019', 'date_completion': None, 'recruitment_status': 'Recruiting', 'study_type': 'Interventional Study', 'phase': 'Not applicable', 'i_code': '/Procedure/Surgery', 'inclusion_criteria': {'inc_criteria_en': 'Patients who visited the Ewha Womans University Mokdong Hospital Pain Clinic, aged 19 to 70 years old, and diagnosed with cervical herniated nucleus pulposus and spinal stenosis due to questionnaire, neurological examination, and radiographic findings. The patients undergoing cervical interlaminar epidural steroid spinal injection.'}, 'exclusion_criteria': {'exc_criteria_en': 'Patients who have undergone cervical interlaminar epidural steroid spinal injection within 4 weeks prior to the procedure, taken oral steroids, anticoagulants, or drugs that affect lung function, ropivacaine or steroid hypersensitivity, cognitive dysfunction, lung function disorder, liver function disorder. \\nIf the patient or guardian disagree with the study, they are also excluded from the study.'}, 'hc_code': 'Cervical Herniated nucleus pulposus, cervical spinal stenosis'}, 'primary_outcome': {'prim_outcome_en': ['Forced expiratory volume in one second (FEV1), Forced vital capacity (FVC), Peak expiratory flow rate (PEFR)', 'VAS score']}, 'secondary_sponsor': None, 'source_support': {'source_name_en': 'Ewha Womans University Medical Center'}}\n"
     ]
    }
   ],
   "source": [
    "test = json.loads(cris_trials[62])\n",
    "print(test)"
   ]
  },
  {
   "cell_type": "code",
   "execution_count": 10,
   "metadata": {},
   "outputs": [
    {
     "name": "stdout",
     "output_type": "stream",
     "text": [
      "KCT0004343\n"
     ]
    }
   ],
   "source": [
    "test_new = test['main']['trial_id']\n",
    "print(test_new)"
   ]
  },
  {
   "cell_type": "code",
   "execution_count": 11,
   "metadata": {
    "lines_to_next_cell": 0
   },
   "outputs": [],
   "source": [
    "#creates a csv with no headers and a single column with all trials in json in their own row.\n",
    "\n",
    "import csv\n",
    "from datetime import date\n",
    "\n",
    "def cris_csv():\n",
    "    with open('cris - ' + str(date.today()) + '.csv','w', newline = '')as cris_csv:\n",
    "        writer=csv.writer(cris_csv)\n",
    "        for val in cris_trials:\n",
    "            writer.writerow([val])\n",
    "\n",
    "#If you want a CSV run this function after the script runs"
   ]
  },
  {
   "cell_type": "code",
   "execution_count": 12,
   "metadata": {},
   "outputs": [],
   "source": [
    "cris_csv()"
   ]
  },
  {
   "cell_type": "code",
   "execution_count": null,
   "metadata": {},
   "outputs": [],
   "source": []
  },
  {
   "cell_type": "code",
   "execution_count": null,
   "metadata": {},
   "outputs": [],
   "source": []
  },
  {
   "cell_type": "code",
   "execution_count": null,
   "metadata": {},
   "outputs": [],
   "source": []
  },
  {
   "cell_type": "code",
   "execution_count": null,
   "metadata": {
    "lines_to_next_cell": 2
   },
   "outputs": [],
   "source": []
  }
 ],
 "metadata": {
  "jupytext": {
   "formats": "ipynb,py:light"
  },
  "kernelspec": {
   "display_name": "Python 3",
   "language": "python",
   "name": "python3"
  },
  "language_info": {
   "codemirror_mode": {
    "name": "ipython",
    "version": 3
   },
   "file_extension": ".py",
   "mimetype": "text/x-python",
   "name": "python",
   "nbconvert_exporter": "python",
   "pygments_lexer": "ipython3",
   "version": "3.7.4"
  }
 },
 "nbformat": 4,
 "nbformat_minor": 2
}
