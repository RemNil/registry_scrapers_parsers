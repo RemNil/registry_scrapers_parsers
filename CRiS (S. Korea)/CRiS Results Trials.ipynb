{
 "cells": [
  {
   "cell_type": "code",
   "execution_count": null,
   "metadata": {},
   "outputs": [],
   "source": [
    "\n",
    "#The standard CRIS XML doesn't include anything that tells us about results status\n",
    "#but we can automate getting another data download of just trials with results\n",
    "#and compare"
   ]
  },
  {
   "cell_type": "code",
   "execution_count": 1,
   "metadata": {},
   "outputs": [],
   "source": [
    "from selenium import webdriver\n",
    "from selenium.webdriver.common.keys import Keys\n",
    "from selenium.webdriver.common.by import By\n",
    "from selenium.webdriver.support.ui import Select\n",
    "from time import sleep\n",
    "from time import time\n",
    "import os\n",
    "import xmltodict\n",
    "import json\n",
    "import re\n",
    "from requests import get\n",
    "from bs4 import BeautifulSoup\n",
    "from pathlib import Path\n",
    "import platform\n",
    "\n",
    "platform = platform.platform()\n",
    "cwd = os.getcwd()\n",
    "download_path = os.path.join(cwd,'CRiS Downloads')\n",
    "#adjust this to fit your specific file structure \n",
    "parent = str(Path(cwd).parents[0]) \n",
    "\n",
    "if \"Darwin\" in platform:\n",
    "    chrome_driver = os.path.join(parent, 'Drivers', 'chromedriver')\n",
    "elif \"Windows\" in platform:\n",
    "    chrome_driver = os.path.join(parent, 'Drivers', 'chromedriver.exe')\n",
    "else:\n",
    "    print(\"No OS/Chromedriver match. OS: {}\".format(platform))"
   ]
  },
  {
   "cell_type": "code",
   "execution_count": 11,
   "metadata": {},
   "outputs": [],
   "source": [
    "chromeOptions = webdriver.ChromeOptions()\n",
    "prefs = {\"download.default_directory\" : download_path,\n",
    "        'disk-cache-size': 4096,\n",
    "        'safebrowsing.enabled': 'false'}\n",
    "chromeOptions.add_experimental_option(\"prefs\",prefs)\n",
    "driver = webdriver.Chrome(executable_path=chrome_driver, options=chromeOptions)\n",
    "driver.get('https://cris.nih.go.kr/cris/en/search/detail_search.jsp')\n",
    "select_results = Select(driver.find_element_by_id('s_results_yn'))\n",
    "select_results.select_by_value('Y')\n",
    "driver.find_element_by_xpath(\"//input[@alt='Search']\").click()\n",
    "sleep(3)\n",
    "results_trials_count = (driver.find_element_by_xpath(\"//strong[@class='searchtbtnb']\")).text\n",
    "driver.find_element_by_xpath(\"//img[@alt='Download']\").click()\n",
    "sleep(2)\n",
    "handles = driver.window_handles\n",
    "driver.switch_to.window(handles[-1])\n",
    "select = Select(driver.find_element_by_id('data_dtype'))\n",
    "select.select_by_value('xml')\n",
    "driver.find_element_by_xpath(\"//img[@alt='confirm']\").click()\n",
    "\n",
    "dl_check = 0\n",
    "start_time = time()\n",
    "while dl_check == 0 and time() - start_time < 600:\n",
    "    count = 0\n",
    "    for file in os.listdir(download_path):\n",
    "        if file.endswith(\".xml\"):\n",
    "            count = 1\n",
    "        else:\n",
    "            count = 0\n",
    "    if count == 1:\n",
    "        dl_check = 1\n",
    "        driver.quit()\n",
    "    else:\n",
    "        dl_check = 0\n",
    "        sleep(5)"
   ]
  },
  {
   "cell_type": "code",
   "execution_count": 12,
   "metadata": {},
   "outputs": [
    {
     "name": "stdout",
     "output_type": "stream",
     "text": [
      "['cris_research_2019-05-10_en.xml']\n",
      "cris_research_2019-05-10_en.xml\n"
     ]
    }
   ],
   "source": [
    "print(os.listdir(download_path))\n",
    "file_name = ''\n",
    "for file in os.listdir(download_path):\n",
    "    if file.endswith('.xml'):\n",
    "        file_name = file\n",
    "print(file_name)"
   ]
  },
  {
   "cell_type": "code",
   "execution_count": 13,
   "metadata": {},
   "outputs": [],
   "source": [
    "#there's, as far as I can tell, a single instance of a problematic html element (&#1;) making the XML invalid. \n",
    "#Upon Investigation, it appears to be completely inconsequential so rather than messing around with encoding, \n",
    "#much easier to just delete that 1 instance\n",
    "\n",
    "xmlstring = open(download_path + '/' + file_name, 'r', encoding=\"utf8\").read()\n",
    "xml_fixed = re.sub(r'&#1;', '', xmlstring)"
   ]
  },
  {
   "cell_type": "code",
   "execution_count": 15,
   "metadata": {},
   "outputs": [
    {
     "name": "stdout",
     "output_type": "stream",
     "text": [
      "CRIS Results Download/Parse Successful: 153 records\n"
     ]
    }
   ],
   "source": [
    "cris_results_trials = []\n",
    "\n",
    "results_trials = xmltodict.parse(xml_fixed)\n",
    "for trial in results_trials['trials']['trial']:\n",
    "    cris_results_trials.append(json.dumps(trial))\n",
    "\n",
    "if len(cris_results_trials) == int(results_trials_count):\n",
    "    print(\"CRIS Results Download/Parse Successful: {} records\".format(results_trials_count))\n",
    "else:\n",
    "    print(\"Results Trial Issue: CRIS Contains {}, Scrape Contains {}\".format(results_trials_count, len(cris_trials)))"
   ]
  },
  {
   "cell_type": "code",
   "execution_count": 18,
   "metadata": {},
   "outputs": [],
   "source": [
    "#creates a csv with no headers and a single column with all trials in json in their own row.\n",
    "\n",
    "import csv\n",
    "from datetime import date\n",
    "\n",
    "def cris_results_csv():\n",
    "    with open('cris_results - ' + str(date.today()) + '.csv','w', newline = '')as cris_results_csv:\n",
    "        writer=csv.writer(cris_results_csv)\n",
    "        for val in cris_results_trials:\n",
    "            writer.writerow([val])\n",
    "\n",
    "#If you want a CSV run this function after the script runs"
   ]
  },
  {
   "cell_type": "code",
   "execution_count": 19,
   "metadata": {},
   "outputs": [],
   "source": [
    "#cris_results_csv()"
   ]
  },
  {
   "cell_type": "code",
   "execution_count": null,
   "metadata": {},
   "outputs": [],
   "source": []
  }
 ],
 "metadata": {
  "jupytext": {
   "formats": "ipynb,py:light"
  },
  "kernelspec": {
   "display_name": "Python 3",
   "language": "python",
   "name": "python3"
  },
  "language_info": {
   "codemirror_mode": {
    "name": "ipython",
    "version": 3
   },
   "file_extension": ".py",
   "mimetype": "text/x-python",
   "name": "python",
   "nbconvert_exporter": "python",
   "pygments_lexer": "ipython3",
   "version": "3.7.3"
  }
 },
 "nbformat": 4,
 "nbformat_minor": 2
}
