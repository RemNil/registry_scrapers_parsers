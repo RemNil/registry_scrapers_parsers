{
 "cells": [
  {
   "cell_type": "code",
   "execution_count": null,
   "metadata": {},
   "outputs": [],
   "source": [
    "\n",
    "#The standard CRIS XML doesn't include anything that tells us about results status\n",
    "#but we can automate getting another data download of just trials with results\n",
    "#and work with those"
   ]
  },
  {
   "cell_type": "code",
   "execution_count": null,
   "metadata": {},
   "outputs": [],
   "source": [
    "from selenium import webdriver\n",
    "from selenium.webdriver.common.keys import Keys\n",
    "from selenium.webdriver.common.by import By\n",
    "from selenium.webdriver.support.ui import Select\n",
    "from time import sleep\n",
    "from time import time\n",
    "import os\n",
    "import xmltodict\n",
    "import json\n",
    "import re\n",
    "from requests import get\n",
    "from bs4 import BeautifulSoup\n",
    "from pathlib import Path\n",
    "import platform\n",
    "\n",
    "platform = platform.platform()\n",
    "cwd = os.getcwd()\n",
    "download_path = os.path.join(cwd,'CRiS Downloads')\n",
    "#adjust this to fit your specific file structure \n",
    "parent = str(Path(cwd).parents[0]) \n",
    "\n",
    "if \"Darwin\" in platform:\n",
    "    chrome_driver = os.path.join(parent, 'Drivers', 'chromedriver')\n",
    "elif \"Windows\" in platform:\n",
    "    chrome_driver = os.path.join(parent, 'Drivers', 'chromedriver.exe')\n",
    "else:\n",
    "    print(\"No OS/Chromedriver match. OS: {}\".format(platform))"
   ]
  },
  {
   "cell_type": "code",
   "execution_count": null,
   "metadata": {},
   "outputs": [],
   "source": [
    "driver = webdriver.Chrome(executable_path=chrome_driver, options=chromeOptions)\n",
    "driver.get('https://cris.nih.go.kr/cris/en/search/detail_search.jsp')\n",
    "select_results = Select(driver.find_element_by_id('s_results_yn'))\n",
    "select_results.select_by_value('Y')\n",
    "driver.find_element_by_xpath(\"//input[@alt='Search']\").click()\n",
    "sleep(3)\n",
    "results_trials = (driver.find_element_by_xpath(\"//strong[@class='searchtbtnb']\")).text\n",
    "driver.find_element_by_xpath(\"//img[@alt='Download']\").click()\n",
    "sleep(2)\n",
    "handles = driver.window_handles\n",
    "driver.switch_to.window(handles[-1])\n",
    "select = Select(driver.find_element_by_id('data_dtype'))\n",
    "select.select_by_value('xml')\n",
    "driver.find_element_by_xpath(\"//img[@alt='confirm']\").click()\n",
    "sleep(5)\n",
    "driver.quit()"
   ]
  },
  {
   "cell_type": "code",
   "execution_count": null,
   "metadata": {},
   "outputs": [],
   "source": [
    "cris_results_trials = []\n",
    "\n",
    "results_trials = xmltodict.parse(xml_fixed)\n",
    "for trial in results_trials['trials']['trial']:\n",
    "    cris_results_trials.append(json.dumps(trial))\n",
    "\n",
    "if len(cris_results_trials) == int(results_trials):\n",
    "    print(\"CRIS Results Download/Parse Successful: {} records\".format(total_trials))\n",
    "else:\n",
    "    print(\"Results Trial Issue: CRIS Contains {}, Scrape Contains {}\".format(total_trials, len(cris_trials)))"
   ]
  },
  {
   "cell_type": "code",
   "execution_count": null,
   "metadata": {},
   "outputs": [],
   "source": [
    "#creates a csv with no headers and a single column with all trials in json in their own row.\n",
    "\n",
    "import csv\n",
    "from datetime import date\n",
    "\n",
    "def cris_results_csv():\n",
    "    with open('cris_results - ' + str(date.today()) + '.csv','w', newline = '')as cris_results_csv:\n",
    "        writer=csv.writer(cris_results_csv)\n",
    "        for val in ccris_results_trials:\n",
    "            writer.writerow([val])\n",
    "\n",
    "#If you want a CSV run this function after the script runs"
   ]
  },
  {
   "cell_type": "code",
   "execution_count": null,
   "metadata": {},
   "outputs": [],
   "source": []
  },
  {
   "cell_type": "code",
   "execution_count": null,
   "metadata": {},
   "outputs": [],
   "source": []
  }
 ],
 "metadata": {
  "kernelspec": {
   "display_name": "Python 3",
   "language": "python",
   "name": "python3"
  },
  "language_info": {
   "codemirror_mode": {
    "name": "ipython",
    "version": 3
   },
   "file_extension": ".py",
   "mimetype": "text/x-python",
   "name": "python",
   "nbconvert_exporter": "python",
   "pygments_lexer": "ipython3",
   "version": "3.7.1"
  }
 },
 "nbformat": 4,
 "nbformat_minor": 2
}
