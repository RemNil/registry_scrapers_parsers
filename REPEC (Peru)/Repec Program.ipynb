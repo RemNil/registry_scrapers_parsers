{
 "cells": [
  {
   "cell_type": "markdown",
   "metadata": {},
   "source": [
    "# REPEC (Peru) Registry Scraper/Parser"
   ]
  },
  {
   "cell_type": "code",
   "execution_count": 7,
   "metadata": {},
   "outputs": [],
   "source": [
    "import xmltodict\n",
    "import json\n",
    "import os\n",
    "from bs4 import BeautifulSoup\n",
    "from requests import get\n",
    "import html.parser\n",
    "import re\n",
    "from pathlib import Path\n",
    "import platform\n",
    "\n",
    "platform = platform.platform()\n",
    "cwd = os.getcwd()\n",
    "download_path = os.path.join(cwd,'REPEC Downloads')\n",
    "#adjust this to fit your specific file structure \n",
    "parent = str(Path(cwd).parents[0])"
   ]
  },
  {
   "cell_type": "code",
   "execution_count": 2,
   "metadata": {},
   "outputs": [],
   "source": [
    "generate = get('https://www.ins.gob.pe/ensayosclinicos/rpec/GenerarXMLALL.asp?fbusqueda=&especialidad=%&estado=&anio=%&val=')\n",
    "html_generate = generate.content\n",
    "generate_page = BeautifulSoup(html_generate, \"html.parser\")"
   ]
  },
  {
   "cell_type": "code",
   "execution_count": 5,
   "metadata": {},
   "outputs": [],
   "source": [
    "results_str = generate_page.find('body').text"
   ]
  },
  {
   "cell_type": "code",
   "execution_count": 6,
   "metadata": {},
   "outputs": [
    {
     "name": "stdout",
     "output_type": "stream",
     "text": [
      "\r\n",
      "\r\n",
      "Se ha generado un archivo para 1794 ensayos clinicos. Descargar archivo\n",
      "\n"
     ]
    }
   ],
   "source": [
    "print(results_str)"
   ]
  },
  {
   "cell_type": "code",
   "execution_count": 14,
   "metadata": {},
   "outputs": [
    {
     "name": "stdout",
     "output_type": "stream",
     "text": [
      "1794\n"
     ]
    }
   ],
   "source": [
    "total_trials = int((re.findall(r\"[0-9]{4}\", results_str))[0])\n",
    "print(total_trials)"
   ]
  },
  {
   "cell_type": "code",
   "execution_count": null,
   "metadata": {},
   "outputs": [],
   "source": [
    "url_end = generate_page.find('a').get('href')"
   ]
  },
  {
   "cell_type": "code",
   "execution_count": null,
   "metadata": {},
   "outputs": [],
   "source": [
    "response = get('https://www.ins.gob.pe/ensayosclinicos/rpec/' + url_end)\n",
    "raw = response.text"
   ]
  },
  {
   "cell_type": "code",
   "execution_count": null,
   "metadata": {},
   "outputs": [],
   "source": [
    "repec_trials = []\n",
    "trials = xmltodict.parse(raw, encoding = 'utf-8')"
   ]
  },
  {
   "cell_type": "code",
   "execution_count": null,
   "metadata": {},
   "outputs": [],
   "source": [
    "for trial in trials['trials']['trial']:\n",
    "    rebec_trials.append(json.dumps(trial))"
   ]
  },
  {
   "cell_type": "code",
   "execution_count": null,
   "metadata": {},
   "outputs": [],
   "source": [
    "#getting rid of leftover html entities\n",
    "\n",
    "fixed_repec = []\n",
    "for trial in rebec_trials:\n",
    "    no_html = html.unescape(trial)\n",
    "    fixed_rebec.append(no_html)"
   ]
  },
  {
   "cell_type": "code",
   "execution_count": null,
   "metadata": {},
   "outputs": [],
   "source": [
    "print(json.loads(fixed_repec[0])['main']['primary_sponsor'])"
   ]
  },
  {
   "cell_type": "code",
   "execution_count": null,
   "metadata": {},
   "outputs": [],
   "source": [
    "if total_trials == len(fixed_repec):\n",
    "    print(\"Success!: {} trials\".format(total_trials))\n",
    "else:\n",
    "    print(\"Error! Rebec Trials {}, Scraped Trials {}\".format(total_trials, len(fixed_repec)))"
   ]
  },
  {
   "cell_type": "code",
   "execution_count": null,
   "metadata": {},
   "outputs": [],
   "source": [
    "from datetime import date\n",
    "import csv\n",
    "\n",
    "def repec_csv():\n",
    "    with open('repec - '+ str(date.today()) + '.csv','w', newline = '')as repec_csv:\n",
    "        writer=csv.writer(repec_csv)\n",
    "        for json in fixed_rebec:\n",
    "            writer.writerow([json])"
   ]
  },
  {
   "cell_type": "code",
   "execution_count": null,
   "metadata": {},
   "outputs": [],
   "source": []
  }
 ],
 "metadata": {
  "jupytext": {
   "formats": "ipynb,py:light"
  },
  "kernelspec": {
   "display_name": "Python 3",
   "language": "python",
   "name": "python3"
  },
  "language_info": {
   "codemirror_mode": {
    "name": "ipython",
    "version": 3
   },
   "file_extension": ".py",
   "mimetype": "text/x-python",
   "name": "python",
   "nbconvert_exporter": "python",
   "pygments_lexer": "ipython3",
   "version": "3.7.3"
  }
 },
 "nbformat": 4,
 "nbformat_minor": 2
}
