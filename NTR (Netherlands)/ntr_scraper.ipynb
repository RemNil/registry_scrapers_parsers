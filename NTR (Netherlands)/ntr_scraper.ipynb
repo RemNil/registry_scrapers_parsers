{
 "cells": [
  {
   "cell_type": "code",
   "execution_count": 13,
   "metadata": {},
   "outputs": [],
   "source": [
    "import requests\n",
    "rsp = requests.post(\n",
    "    \"https://api.trialregister.nl/trials/public.trials/_msearch?\",\n",
    "    headers={\"Content-Type\": \"application/x-ndjson\", \"Accept\": \"application/json\"},\n",
    "    data='{\"preference\":\"results\"}\\n{\"query\":{\"match_all\":{}},\"size\":10000,\"_source\":{\"includes\":[\"*\"],\"excludes\":[]},\"sort\":[{\"id\":{\"order\":\"desc\"}}]}\\n',\n",
    ")\n",
    "results = rsp.json()\n",
    "hits = results[\"responses\"][0][\"hits\"][\"hits\"]\n",
    "records = [hit[\"_source\"] for hit in hits]"
   ]
  },
  {
   "cell_type": "code",
   "execution_count": 23,
   "metadata": {},
   "outputs": [],
   "source": [
    "all_keys = set().union(*(record.keys() for record in records))"
   ]
  },
  {
   "cell_type": "code",
   "execution_count": 26,
   "metadata": {},
   "outputs": [],
   "source": [
    "labels = list(all_keys)\n",
    "\n",
    "from datetime import date\n",
    "import csv\n",
    "\n",
    "def ntr_csv():\n",
    "    with open('ntr - ' + str(date.today()) + '.csv','w', newline = '', encoding='utf-8') as ntr_csv:\n",
    "        writer=csv.DictWriter(ntr_csv,fieldnames=labels)\n",
    "        writer.writeheader()\n",
    "        writer.writerows(records)"
   ]
  },
  {
   "cell_type": "code",
   "execution_count": 27,
   "metadata": {},
   "outputs": [],
   "source": [
    "ntr_csv()"
   ]
  },
  {
   "cell_type": "code",
   "execution_count": null,
   "metadata": {
    "lines_to_next_cell": 2
   },
   "outputs": [],
   "source": []
  }
 ],
 "metadata": {
  "jupytext": {
   "formats": "ipynb,py:light"
  },
  "kernelspec": {
   "display_name": "Python 3",
   "language": "python",
   "name": "python3"
  },
  "language_info": {
   "codemirror_mode": {
    "name": "ipython",
    "version": 3
   },
   "file_extension": ".py",
   "mimetype": "text/x-python",
   "name": "python",
   "nbconvert_exporter": "python",
   "pygments_lexer": "ipython3",
   "version": "3.7.6"
  }
 },
 "nbformat": 4,
 "nbformat_minor": 4
}
