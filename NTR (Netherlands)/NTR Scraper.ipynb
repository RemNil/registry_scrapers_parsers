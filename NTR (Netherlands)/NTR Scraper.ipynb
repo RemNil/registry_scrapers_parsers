{
 "cells": [
  {
   "cell_type": "code",
   "execution_count": null,
   "metadata": {},
   "outputs": [],
   "source": [
    "from requests import get\n",
    "from bs4 import BeautifulSoup\n",
    "import re\n",
    "import nest_asyncio\n",
    "nest_asyncio.apply()\n",
    "from fake_useragent import UserAgent\n",
    "from requests_html import HTMLSession\n",
    "ua = UserAgent()\n",
    "headers = {'User-Agent': ua.random}\n",
    "ntr_search = 'https://www.trialregister.nl/trials'\n",
    "url = 'https://www.trialregister.nl/trial/'"
   ]
  },
  {
   "cell_type": "code",
   "execution_count": null,
   "metadata": {},
   "outputs": [],
   "source": [
    "#This gets the home page which gets us the number of trials. Trial IDs are in sequential order and in the URLs\n",
    "session = HTMLSession()\n",
    "r = session.get(ntr_search, headers=headers)\n",
    "r.html.render(wait=1,sleep=1)\n",
    "home = r.html.text\n",
    "search = re.compile('\\d{4,5} trials found')\n",
    "raw_count_string = search.findall(home)[0]\n",
    "count = re.compile('\\d{4,5}')\n",
    "trial_count = int(count.findall(raw_count_string)[0])\n",
    "print(trial_count)"
   ]
  },
  {
   "cell_type": "code",
   "execution_count": null,
   "metadata": {},
   "outputs": [],
   "source": [
    "#get a list of trial IDs for later from this\n",
    "trial_ids =  list(range(1,trial_count+1))"
   ]
  },
  {
   "cell_type": "code",
   "execution_count": null,
   "metadata": {},
   "outputs": [],
   "source": [
    "#for testing\n",
    "trial_ids = list(range(1,11))"
   ]
  },
  {
   "cell_type": "code",
   "execution_count": null,
   "metadata": {},
   "outputs": [],
   "source": [
    "labels = ['Acronym', 'Title', 'Scientific title', 'Summary', 'Status', 'Study type', 'Control group', \n",
    "          'Grouping', 'Arms', 'Masking', 'Target size', 'Inclusion criteria', 'Exclusion criteria', \n",
    "         'Start date', 'Stop date', 'Diseases', 'Hypothesis', 'Interventions', 'Primary outcome', \n",
    "         'Secondary outcome', 'Sponsors', 'Time points', 'MEC approved', 'Multicenter', 'Randomised', \n",
    "         'Plan to share IPD', 'IPD plan description', 'Publications', 'Issueing body', 'Source ID', \n",
    "         'Funding sources', 'Old NTR ID', 'Date registered', 'URL', 'Contact', 'Registrant']\n",
    "\n",
    "ntc_trials = []\n",
    "\n",
    "for id in trial_ids:\n",
    "    session = HTMLSession()\n",
    "    t = session.get(url + str(id), headers=headers)\n",
    "    t.html.render(wait=1,sleep=1)\n",
    "    trial = t.html.find('.jss1')[0].text\n",
    "    newlines = trial.splitlines(True)\n",
    "    newlines_slice = newlines[8:]\n",
    "    newlines_slice.remove('Show audit trail\\n')\n",
    "    trial_info = []\n",
    "    for i in newlines_slice:\n",
    "        x = i.rstrip()\n",
    "        trial_info.append(x)\n",
    "    trial_info = list(filter(None, trial_info))\n",
    "    i_list = []\n",
    "    for label in labels:\n",
    "        i_list.append(trial_info.index(label))\n",
    "    trial_dict = {}\n",
    "    trial_dict['Trial ID'] = trial_info[0][6:]\n",
    "    for idx, i in enumerate(i_list):\n",
    "        try:\n",
    "            trial_dict[labels[idx]] = trial_info[i+1:i_list[idx+1]]\n",
    "            if len(trial_dict[labels[idx]]) == 1:\n",
    "                trial_dict[labels[idx]] = trial_dict[labels[idx]][0]\n",
    "        except IndexError:\n",
    "            trial_dict[labels[idx]] = trial_info[i+1:]\n",
    "            if len(trial_dict[labels[idx]]) == 1:\n",
    "                trial_dict[labels[idx]] = trial_dict[labels[idx]][0]\n",
    "    ntc_trials.append(trial_dict)"
   ]
  },
  {
   "cell_type": "code",
   "execution_count": null,
   "metadata": {},
   "outputs": [],
   "source": [
    "if len(ntc_trials) == trial_count:\n",
    "    print('Scrape Successful - {} records scraped'.format(trial_count))\n",
    "else:\n",
    "    print('Issue with Scrape - {} difference between trial_count and scraped trials'.format(trial_count - len(ntc_trials)))"
   ]
  },
  {
   "cell_type": "code",
   "execution_count": null,
   "metadata": {},
   "outputs": [],
   "source": [
    "labels = ['Trial ID', 'Acronym', 'Title', 'Scientific title', 'Summary', 'Status', 'Study type', 'Control group', \n",
    "          'Grouping', 'Arms', 'Masking', 'Target size', 'Inclusion criteria', 'Exclusion criteria', \n",
    "         'Start date', 'Stop date', 'Diseases', 'Hypothesis', 'Interventions', 'Primary outcome', \n",
    "         'Secondary outcome', 'Sponsors', 'Time points', 'MEC approved', 'Multicenter', 'Randomised', \n",
    "         'Plan to share IPD', 'IPD plan description', 'Publications', 'Issueing body', 'Source ID', \n",
    "         'Funding sources', 'Old NTR ID', 'Date registered', 'URL', 'Contact', 'Registrant']\n",
    "\n",
    "from datetime import date\n",
    "import csv\n",
    "\n",
    "def ntc_csv():\n",
    "    with open('ntc - ' + str(date.today()) + '.csv','w', newline = '') as ntc_csv:\n",
    "        writer=csv.DictWriter(ntc_csv,fieldnames=labels)\n",
    "        writer.writeheader()\n",
    "        writer.writerows(ntc_trials)"
   ]
  },
  {
   "cell_type": "code",
   "execution_count": null,
   "metadata": {},
   "outputs": [],
   "source": []
  },
  {
   "cell_type": "code",
   "execution_count": null,
   "metadata": {},
   "outputs": [],
   "source": []
  }
 ],
 "metadata": {
  "kernelspec": {
   "display_name": "Python 3",
   "language": "python",
   "name": "python3"
  },
  "language_info": {
   "codemirror_mode": {
    "name": "ipython",
    "version": 3
   },
   "file_extension": ".py",
   "mimetype": "text/x-python",
   "name": "python",
   "nbconvert_exporter": "python",
   "pygments_lexer": "ipython3",
   "version": "3.7.2"
  }
 },
 "nbformat": 4,
 "nbformat_minor": 2
}
