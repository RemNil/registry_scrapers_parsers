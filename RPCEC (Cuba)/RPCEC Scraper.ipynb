{
 "cells": [
  {
   "cell_type": "code",
   "execution_count": null,
   "metadata": {},
   "outputs": [],
   "source": [
    "from requests import get\n",
    "from requests import ConnectionError\n",
    "from bs4 import BeautifulSoup\n",
    "import re\n",
    "import pandas as pd\n",
    "from time import time\n",
    "import csv\n",
    "\n",
    "try:\n",
    "    get_ipython\n",
    "    from tqdm.notebook import tqdm\n",
    "except NameError:\n",
    "    from tqdm import tqdm\n",
    "    \n",
    "import urllib3\n",
    "urllib3.disable_warnings(urllib3.exceptions.InsecureRequestWarning)\n",
    "    \n",
    "def get_url(url):\n",
    "    response = get(url, verify = False)\n",
    "    html = response.content\n",
    "    soup = BeautifulSoup(html, \"html.parser\")\n",
    "    return soup"
   ]
  },
  {
   "cell_type": "code",
   "execution_count": null,
   "metadata": {},
   "outputs": [],
   "source": [
    "trial_list = 'http://rpcec.sld.cu/en/advances-search?page=0%2C0%2C0%2C0%2C0%2C0%2C0%2C0%2C0%2C0%2C0%2C0%2C0%2C0%2C0%2C0%2C0%2C0%2C0%2C0%2C0%2C0%2C0%2C0%2C0%2C{}'\n",
    "pages = list(range(0,16))"
   ]
  },
  {
   "cell_type": "code",
   "execution_count": null,
   "metadata": {},
   "outputs": [],
   "source": [
    "hrefs = []\n",
    "for page in tqdm(pages):\n",
    "    soup = get_url(trial_list.format(page))\n",
    "    body = soup.find('tbody').find_all('a')\n",
    "    for a in body:\n",
    "        hrefs.append(a.get('href'))"
   ]
  },
  {
   "cell_type": "code",
   "execution_count": null,
   "metadata": {},
   "outputs": [],
   "source": [
    "prefix = 'http://registroclinico.sld.cu'\n",
    "t_list = []\n",
    "for h in tqdm(hrefs):\n",
    "    soup = get_url(prefix+h)\n",
    "    labels = soup.find_all('div', {'class': 'field-label'})\n",
    "    content = soup.find_all('div', {'class': 'field-items'})\n",
    "    lab = []\n",
    "    cont = []\n",
    "    for l, c in zip(labels,content):\n",
    "        lab.append(l.text.strip())\n",
    "        cont.append(c.text.strip())\n",
    "    t_dict = dict(zip(lab, cont))\n",
    "    t = h.replace('en/trials', 'ensayos').replace('-En', '-Sp')\n",
    "    soup2 = get_url(prefix+t)\n",
    "    if soup2.find('div', text=re.compile('Referencias:')):\n",
    "        sp_ref = soup2.find('div', text=re.compile('Referencias:')).find_next('div').text.strip()\n",
    "        t_dict['references_spanish'] = sp_ref\n",
    "    else:\n",
    "        pass\n",
    "    if soup2.find('div', text=re.compile('Resultados:')):\n",
    "        sp_res = soup2.find('div', text=re.compile('Resultados:')).find_next('div').text.strip()\n",
    "        t_dict['results_spanish'] = sp_res\n",
    "    else:\n",
    "        pass\n",
    "    t_list.append(t_dict)"
   ]
  },
  {
   "cell_type": "code",
   "execution_count": null,
   "metadata": {},
   "outputs": [],
   "source": [
    "import ndjson\n",
    "with open('rpcec_json.ndjson','w') as r:\n",
    "    ndjson.dump(t_list, r)"
   ]
  },
  {
   "cell_type": "code",
   "execution_count": null,
   "metadata": {},
   "outputs": [],
   "source": []
  }
 ],
 "metadata": {
  "jupytext": {
   "formats": "ipynb,py:light"
  },
  "kernelspec": {
   "display_name": "Python 3",
   "language": "python",
   "name": "python3"
  },
  "language_info": {
   "codemirror_mode": {
    "name": "ipython",
    "version": 3
   },
   "file_extension": ".py",
   "mimetype": "text/x-python",
   "name": "python",
   "nbconvert_exporter": "python",
   "pygments_lexer": "ipython3",
   "version": "3.7.6"
  }
 },
 "nbformat": 4,
 "nbformat_minor": 4
}
