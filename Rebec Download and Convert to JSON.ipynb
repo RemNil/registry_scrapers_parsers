{
 "cells": [
  {
   "cell_type": "code",
   "execution_count": null,
   "metadata": {},
   "outputs": [],
   "source": [
    "from requests import get\n",
    "from bs4 import BeautifulSoup"
   ]
  },
  {
   "cell_type": "code",
   "execution_count": null,
   "metadata": {},
   "outputs": [],
   "source": [
    "base_rebec_url = 'http://www.ensaiosclinicos.gov.br/rg/?page='\n",
    "download_path = '/Users/nicholasdevito/Desktop/Test Rebec'"
   ]
  },
  {
   "cell_type": "code",
   "execution_count": null,
   "metadata": {},
   "outputs": [],
   "source": [
    "#Quick way to get max_page count\n",
    "url = base_rebec_url + '1'\n",
    "response = get(url, verify = False)\n",
    "html = response.content\n",
    "\n",
    "#gets parsed XML\n",
    "soup = BeautifulSoup(html, \"html.parser\")\n",
    "\n",
    "number_of_pages = soup.find('div', {'class': 'pagination'})\n",
    "max_page = number_of_pages.find_all('a')[-3].get_text()\n",
    "print(max_page)"
   ]
  },
  {
   "cell_type": "code",
   "execution_count": null,
   "metadata": {},
   "outputs": [],
   "source": [
    "#everything we need to run our selenium crawler\n",
    "from selenium import webdriver\n",
    "from selenium.webdriver.common.keys import Keys\n",
    "from selenium.webdriver.common.by import By\n",
    "#from selenium.webdriver.support.ui import WebDriverWait\n",
    "#from selenium.webdriver.support import expected_conditions as EC\n",
    "#from selenium.common.exceptions import TimeoutException\n",
    "from time import sleep\n",
    "\n",
    "chrome_driver = '/Users/nicholasdevito/Dropbox/Python projects/ANZCTR/chromedriver'\n",
    "page_list = [str(i) for i in range(2,5)]#after testing put this for full download: 'int(max_page)+1' instead of '5'"
   ]
  },
  {
   "cell_type": "code",
   "execution_count": null,
   "metadata": {},
   "outputs": [],
   "source": [
    "#this goes to the first search page, downloads the xml, then does that for every other page\n",
    "\n",
    "chromeOptions = webdriver.ChromeOptions()\n",
    "prefs = {\"download.default_directory\" : download_path,\n",
    "        'profile.managed_default_content_settings.images':2,\n",
    "        'disk-cache-size': 4096}\n",
    "chromeOptions.add_experimental_option(\"prefs\",prefs)\n",
    "driver = webdriver.Chrome(executable_path=chrome_driver, options=chromeOptions)\n",
    "driver.get(base_rebec_url + '1')\n",
    "#sleep(3)\n",
    "driver.find_element_by_id(\"chk_toggle_selection\").click()\n",
    "driver.find_element_by_xpath(\"//input[@value='Download selected as OpenTrials XML format']\").click()\n",
    "#sleep(3)\n",
    "for page in page_list:\n",
    "    driver.find_element_by_link_text(page).click()\n",
    "    driver.find_element_by_id(\"chk_toggle_selection\").click()\n",
    "    driver.find_element_by_xpath(\"//input[@value='Download selected as OpenTrials XML format']\").click()\n",
    "    #sleep(1)\n",
    "sleep(5)\n",
    "driver.quit()\n",
    "\n",
    " "
   ]
  },
  {
   "cell_type": "code",
   "execution_count": null,
   "metadata": {},
   "outputs": [],
   "source": [
    "#quick check to make sure we got the correct number of files\n",
    "\n",
    "dl_counter = 0\n",
    "for file in os.listdir(download_path):  \n",
    "    if file.endswith('.xml'):\n",
    "        dl_counter += 1\n",
    "\n",
    "if dl_counter == 4:  #4 is here just for testing, use 'max_page' variable for full implementation\n",
    "    print(\"Full Download Successful\")\n",
    "else:\n",
    "    print(\"Missing \" + str(4 - dl_counter) + \" File(s)\") #once again, replace the 4 here with 'max_page' in full implementation"
   ]
  },
  {
   "cell_type": "code",
   "execution_count": null,
   "metadata": {},
   "outputs": [],
   "source": [
    "import xmltodict\n",
    "import json\n",
    "import os"
   ]
  },
  {
   "cell_type": "code",
   "execution_count": null,
   "metadata": {},
   "outputs": [],
   "source": [
    "#gets each trial and adds it to a list a json\n",
    "\n",
    "rebec_trials = []\n",
    "\n",
    "for file in os.listdir(download_path):\n",
    "    if file.endswith('.xml'):\n",
    "        with open(download_path + '/' + file) as xml:\n",
    "            trials = xmltodict.parse(xml.read())\n",
    "            for trial in trials['trials']['trial']:\n",
    "                rebec_trials.append(str(json.dumps(trial)))"
   ]
  },
  {
   "cell_type": "code",
   "execution_count": null,
   "metadata": {},
   "outputs": [],
   "source": [
    "#quick checks\n",
    "len(rebec_trials)"
   ]
  },
  {
   "cell_type": "code",
   "execution_count": null,
   "metadata": {},
   "outputs": [],
   "source": [
    "#and another\n",
    "print(rebec_trials[5])"
   ]
  },
  {
   "cell_type": "code",
   "execution_count": null,
   "metadata": {},
   "outputs": [],
   "source": [
    "#creates a csv with no headers and a single column with all trials in json in their own row.\n",
    "\n",
    "import csv\n",
    "with open('test.csv','w', newline = '')as test_csv:\n",
    "    writer=csv.writer(test_csv)\n",
    "    for val in rebec_trials:\n",
    "        writer.writerow([val])"
   ]
  },
  {
   "cell_type": "code",
   "execution_count": null,
   "metadata": {},
   "outputs": [],
   "source": []
  }
 ],
 "metadata": {
  "kernelspec": {
   "display_name": "Python 3",
   "language": "python",
   "name": "python3"
  },
  "language_info": {
   "codemirror_mode": {
    "name": "ipython",
    "version": 3
   },
   "file_extension": ".py",
   "mimetype": "text/x-python",
   "name": "python",
   "nbconvert_exporter": "python",
   "pygments_lexer": "ipython3",
   "version": "3.6.7"
  }
 },
 "nbformat": 4,
 "nbformat_minor": 2
}
