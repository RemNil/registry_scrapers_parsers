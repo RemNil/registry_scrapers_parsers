{
 "cells": [
  {
   "cell_type": "code",
   "execution_count": 5,
   "metadata": {},
   "outputs": [],
   "source": [
    "from requests import get\n",
    "from bs4 import BeautifulSoup\n",
    "import re\n",
    "import os\n",
    "from pathlib import Path\n",
    "import platform\n",
    "\n",
    "platform = platform.platform()\n",
    "cwd = os.getcwd()\n",
    "download_path = os.path.join(cwd,'Rebec Downloads')\n",
    "#adjust this to fit your specific file structure \n",
    "parent = str(Path(cwd).parents[0]) "
   ]
  },
  {
   "cell_type": "code",
   "execution_count": 2,
   "metadata": {},
   "outputs": [],
   "source": [
    "base_rebec_url = 'http://www.ensaiosclinicos.gov.br/rg/?page='\n",
    "\n",
    "if \"Darwin\" in platform:\n",
    "    chrome_driver = os.path.join(parent, 'Drivers', 'chromedriver')\n",
    "elif \"Windows\" in platform:\n",
    "    chrome_driver = os.path.join(parent, 'Drivers', 'chromedriver.exe')\n",
    "else:\n",
    "    print(\"No OS/Chromedriver match. OS: {}\".format(platform))"
   ]
  },
  {
   "cell_type": "code",
   "execution_count": null,
   "metadata": {},
   "outputs": [],
   "source": [
    "#Quick way to get max_page count\n",
    "url = base_rebec_url + '1'\n",
    "response = get(url, verify = False)\n",
    "html = response.content\n",
    "\n",
    "#gets parsed HTML\n",
    "soup = BeautifulSoup(html, \"html.parser\")\n",
    "\n",
    "number_of_pages = soup.find('div', {'class': 'pagination'})\n",
    "max_page = number_of_pages.find_all('a')[-3].get_text()\n",
    "print(max_page)"
   ]
  },
  {
   "cell_type": "code",
   "execution_count": 29,
   "metadata": {},
   "outputs": [],
   "source": [
    "#getting the full trial count\n",
    "home_page = get('http://www.ensaiosclinicos.gov.br')\n",
    "hp_html = home_page.content\n",
    "hp_soup = BeautifulSoup(hp_html, \"html.parser\")\n",
    "tags = hp_soup.find_all('p')\n",
    "for p in tags:\n",
    "    if \"ensaios publicados.\" in str(p):\n",
    "        trial_count = int(p.find('span').text)\n",
    "print(trial_count)"
   ]
  },
  {
   "cell_type": "code",
   "execution_count": null,
   "metadata": {},
   "outputs": [],
   "source": [
    "#everything we need to run our selenium crawler\n",
    "from selenium import webdriver\n",
    "from selenium.webdriver.common.keys import Keys\n",
    "from selenium.webdriver.common.by import By\n",
    "from time import sleep\n",
    "\n",
    "page_list = [str(i) for i in range(2,5)]#after testing put this for full download: 'int(max_page)+1' instead of '5'"
   ]
  },
  {
   "cell_type": "code",
   "execution_count": null,
   "metadata": {},
   "outputs": [],
   "source": [
    "#this goes to the first search page, downloads the xml, then does that for every other page\n",
    "\n",
    "chromeOptions = webdriver.ChromeOptions()\n",
    "prefs = {\"download.default_directory\" : download_path,\n",
    "        'profile.managed_default_content_settings.images':2,\n",
    "        'disk-cache-size': 4096}\n",
    "chromeOptions.add_experimental_option(\"prefs\",prefs)\n",
    "driver = webdriver.Chrome(executable_path=chrome_driver, options=chromeOptions)\n",
    "driver.get(base_rebec_url + '1')\n",
    "#sleep(3)\n",
    "driver.find_element_by_id(\"chk_toggle_selection\").click()\n",
    "driver.find_element_by_xpath(\"//input[@value='Download selected as OpenTrials XML format']\").click()\n",
    "#sleep(3)\n",
    "for page in page_list:\n",
    "    driver.find_element_by_link_text(page).click()\n",
    "    driver.find_element_by_id(\"chk_toggle_selection\").click()\n",
    "    driver.find_element_by_xpath(\"//input[@value='Download selected as OpenTrials XML format']\").click()\n",
    "    #sleep(1)\n",
    "sleep(5)\n",
    "driver.quit()\n",
    "\n",
    " "
   ]
  },
  {
   "cell_type": "code",
   "execution_count": null,
   "metadata": {},
   "outputs": [],
   "source": [
    "#quick check to make sure we got the correct number of files\n",
    "\n",
    "dl_counter = 0\n",
    "for file in os.listdir(download_path):  \n",
    "    if file.endswith('.xml'):\n",
    "        dl_counter += 1\n",
    "\n",
    "if dl_counter == 4:  #4 is here just for testing, use 'max_page' variable for full implementation\n",
    "    print(\"Full Download Successful\")\n",
    "else:\n",
    "    print(\"Missing \" + str(4 - dl_counter) + \" File(s)\") #once again, replace the 4 here with 'max_page' in full implementation"
   ]
  },
  {
   "cell_type": "code",
   "execution_count": null,
   "metadata": {},
   "outputs": [],
   "source": [
    "import xmltodict\n",
    "import json\n",
    "\n",
    "#gets each trial and adds it to a list a json\n",
    "\n",
    "rebec_trials = []\n",
    "\n",
    "for file in os.listdir(download_path):\n",
    "    if file.endswith('.xml'):\n",
    "        with open(os.path.join(download_path, file)) as xml:\n",
    "            trials = xmltodict.parse(xml.read())\n",
    "            for trial in trials['trials']['trial']:\n",
    "                rebec_trials.append(json.dumps(trial))"
   ]
  },
  {
   "cell_type": "code",
   "execution_count": null,
   "metadata": {},
   "outputs": [],
   "source": [
    "#quick check to make sure things worked\n",
    "print(rebec_trials[5])"
   ]
  },
  {
   "cell_type": "code",
   "execution_count": null,
   "metadata": {},
   "outputs": [],
   "source": [
    "#check\n",
    "if len(rebec_trials) == trial_count:\n",
    "    print(\"Sucess!: {} trials\".format(trial_count))\n",
    "else:\n",
    "    print(\"Scrape Issue: {} on Rebec, {} in scrape\".format(trial_count, len(rebec_trials)))"
   ]
  },
  {
   "cell_type": "code",
   "execution_count": 3,
   "metadata": {},
   "outputs": [],
   "source": [
    "#creates a csv with no headers and a single column with all trials in json in their own row.\n",
    "\n",
    "from datetime import date\n",
    "import csv\n",
    "\n",
    "def rebec_csv():\n",
    "    with open('rebec - ' + str(date.today()) + '.csv','w', newline = '')as rebec_csv:\n",
    "        writer=csv.writer(rebec_csv)\n",
    "        for val in rebec_trials:\n",
    "            writer.writerow([val])"
   ]
  },
  {
   "cell_type": "code",
   "execution_count": null,
   "metadata": {},
   "outputs": [],
   "source": []
  }
 ],
 "metadata": {
  "kernelspec": {
   "display_name": "Python 3",
   "language": "python",
   "name": "python3"
  },
  "language_info": {
   "codemirror_mode": {
    "name": "ipython",
    "version": 3
   },
   "file_extension": ".py",
   "mimetype": "text/x-python",
   "name": "python",
   "nbconvert_exporter": "python",
   "pygments_lexer": "ipython3",
   "version": "3.7.1"
  }
 },
 "nbformat": 4,
 "nbformat_minor": 2
}
