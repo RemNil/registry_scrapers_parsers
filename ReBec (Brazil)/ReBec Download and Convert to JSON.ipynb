{
 "cells": [
  {
   "cell_type": "code",
   "execution_count": 5,
   "metadata": {},
   "outputs": [],
   "source": [
    "#https://stackoverflow.com/questions/51114736/xml-file-download-blocked-in-selenium-chromedriver\n",
    "from requests import get\n",
    "from bs4 import BeautifulSoup\n",
    "import re\n",
    "import os\n",
    "from pathlib import Path\n",
    "import platform\n",
    "from xml.sax.saxutils import escape\n",
    "import string\n",
    "\n",
    "platform = platform.platform()\n",
    "cwd = os.getcwd()\n",
    "download_path = os.path.join(cwd,'Rebec Downloads')\n",
    "#adjust this to fit your specific file structure \n",
    "parent = str(Path(cwd).parents[0]) "
   ]
  },
  {
   "cell_type": "code",
   "execution_count": 2,
   "metadata": {},
   "outputs": [],
   "source": [
    "base_rebec_url = 'http://www.ensaiosclinicos.gov.br/rg/?page='\n",
    "\n",
    "if \"Darwin\" in platform:\n",
    "    chrome_driver = os.path.join(parent, 'Drivers', 'chromedriver')\n",
    "elif \"Windows\" in platform:\n",
    "    chrome_driver = os.path.join(parent, 'Drivers', 'chromedriver.exe')\n",
    "else:\n",
    "    print(\"No OS/Chromedriver match. OS: {}\".format(platform))"
   ]
  },
  {
   "cell_type": "code",
   "execution_count": 3,
   "metadata": {},
   "outputs": [
    {
     "name": "stdout",
     "output_type": "stream",
     "text": [
      "286\n"
     ]
    }
   ],
   "source": [
    "#Quick way to get max_page count\n",
    "url = base_rebec_url + '1'\n",
    "response = get(url, verify = False)\n",
    "html = response.content\n",
    "\n",
    "#gets parsed HTML\n",
    "soup = BeautifulSoup(html, \"html.parser\")\n",
    "\n",
    "number_of_pages = soup.find('div', {'class': 'pagination'})\n",
    "max_page = number_of_pages.find_all('a')[-3].get_text()\n",
    "print(max_page)"
   ]
  },
  {
   "cell_type": "code",
   "execution_count": 4,
   "metadata": {},
   "outputs": [
    {
     "name": "stdout",
     "output_type": "stream",
     "text": [
      "2858\n"
     ]
    }
   ],
   "source": [
    "#getting the full trial count\n",
    "home_page = get('http://www.ensaiosclinicos.gov.br')\n",
    "hp_html = home_page.content\n",
    "hp_soup = BeautifulSoup(hp_html, \"html.parser\")\n",
    "tags = hp_soup.find_all('p')\n",
    "for p in tags:\n",
    "    if \"ensaios publicados.\" in str(p):\n",
    "        trial_count = int(p.find('span').text)\n",
    "print(trial_count)"
   ]
  },
  {
   "cell_type": "code",
   "execution_count": 5,
   "metadata": {},
   "outputs": [],
   "source": [
    "#everything we need to run our selenium crawler\n",
    "from selenium import webdriver\n",
    "from selenium.webdriver.common.keys import Keys\n",
    "from selenium.webdriver.common.by import By\n",
    "from time import sleep\n",
    "\n",
    "page_list = [str(i) for i in range(2,int(max_page)+1)]\n",
    "#after testing put this for full download: 'int(max_page)+1' instead of '5'"
   ]
  },
  {
   "cell_type": "code",
   "execution_count": 6,
   "metadata": {},
   "outputs": [],
   "source": [
    "#this goes to the first search page, downloads the xml, then does that for every other page\n",
    "\n",
    "chromeOptions = webdriver.ChromeOptions()\n",
    "prefs = {\"download.default_directory\" : download_path,\n",
    "        'profile.managed_default_content_settings.images':2,\n",
    "        'disk-cache-size': 4096,\n",
    "        'safebrowsing.enabled': 'false'}\n",
    "chromeOptions.add_experimental_option(\"prefs\",prefs)\n",
    "driver = webdriver.Chrome(executable_path=chrome_driver, options=chromeOptions)\n",
    "driver.get(base_rebec_url + '1')\n",
    "#sleep(3)\n",
    "driver.find_element_by_id(\"chk_toggle_selection\").click()\n",
    "driver.find_element_by_xpath(\"//input[@value='Download selected as OpenTrials XML format']\").click()\n",
    "#sleep(3)\n",
    "for page in page_list:\n",
    "    driver.find_element_by_link_text(page).click()\n",
    "    driver.find_element_by_id(\"chk_toggle_selection\").click()\n",
    "    driver.find_element_by_xpath(\"//input[@value='Download selected as OpenTrials XML format']\").click()\n",
    "    #sleep(1)\n",
    "sleep(5)\n",
    "driver.quit()\n",
    "\n",
    " "
   ]
  },
  {
   "cell_type": "code",
   "execution_count": 3,
   "metadata": {},
   "outputs": [
    {
     "name": "stdout",
     "output_type": "stream",
     "text": [
      "Full Download Successful\n"
     ]
    }
   ],
   "source": [
    "#quick check to make sure we got the correct number of files\n",
    "dl_counter = 0\n",
    "for file in os.listdir(download_path):  \n",
    "    if file.endswith('.xml'):\n",
    "        dl_counter += 1\n",
    "\n",
    "if dl_counter == max_page:  #4 is here just for testing, use 'max_page' variable for full implementation\n",
    "    print(\"Full Download Successful\")\n",
    "else:\n",
    "    print(\"Missing \" + str(int(max_page)  - dl_counter) + \" File(s)\") #once again, replace the 4 here with 'max_page' in full implementation"
   ]
  },
  {
   "cell_type": "code",
   "execution_count": 7,
   "metadata": {},
   "outputs": [],
   "source": [
    "#think if this can help? https://stackoverflow.com/questions/4324790/removing-control-characters-from-a-string-in-python\n",
    "#or this https://stackoverflow.com/questions/17480656/remove-ascii-control-characters-from-text-file-python/43521569\n",
    "\n",
    "import xmltodict\n",
    "import json\n",
    "\n",
    "#gets each trial and adds it to a list a json\n",
    "\n",
    "rebec_trials = []\n",
    "nonprintable = set([chr(i) for i in range(128)]).difference(string.printable)\n",
    "\n",
    "for file in os.listdir(download_path):\n",
    "    if file.endswith('.xml'):\n",
    "        with open(os.path.join(download_path, file), encoding = 'utf-8') as xml:\n",
    "            filtered_xml = \"\".join([b for b in xml.read() if b not in nonprintable])\n",
    "            trials = xmltodict.parse(filtered_xml)\n",
    "            for trial in trials['trials']['trial']:\n",
    "                rebec_trials.append(json.dumps(trial))"
   ]
  },
  {
   "cell_type": "code",
   "execution_count": 19,
   "metadata": {},
   "outputs": [
    {
     "name": "stdout",
     "output_type": "stream",
     "text": [
      "{\"@language\": \"en\", \"@status\": \"published\", \"@date_registration\": \"2016-09-12\", \"@created\": \"2016-04-18\", \"@updated\": \"2016-09-12\", \"trial_identification\": {\"trial_id\": \"RBR-83484y\", \"utrn_number\": \"U1111-1182-0732\", \"reg_name\": \"REBEC\", \"public_title\": \"Physical activity and healthy in elderly.\", \"acronym\": null, \"acronym_expansion\": null, \"scientific_title\": \"Resistance and concurrent training with blood flow restriction: hearat rate variability, systemic inflammation effects and neuromuscular adjustments in men and women.\", \"scientific_acronym\": null, \"scientific_acronym_expansion\": null}, \"sponsors_and_support\": {\"primary_sponsor\": {\"@country_code\": \"BR\", \"@type\": \"higher_education_institution\", \"name\": \"Faculdade de Educa\\u00e7\\u00e3o F\\u00edsica, Laborat\\u00f3rio de Fisiologia do Exerc\\u00edcio, Universidade Estadual de Campinas\", \"address\": \"Faculdade de Educa\\u00e7\\u00e3o F\\u00edsica\\nAv Erico Ver\\u00edssimo, 701 - Cidade Universit\\u00e1ria Zeferino Vaz, Campinas, S\\u00e3o Paulo, Brasil\\nCEP 13083851\", \"state\": \"SP\", \"city\": \"Campinas\"}, \"secondary_sponsor\": {\"@country_code\": \"BR\", \"@type\": \"higher_education_institution\", \"name\": \"Faculdade de Educa\\u00e7\\u00e3o F\\u00edsica, Laborat\\u00f3rio de Fisiologia do Exerc\\u00edcio, Universidade Estadual de Campinas\", \"address\": \"Faculdade de Educa\\u00e7\\u00e3o F\\u00edsica\\nAv Erico Ver\\u00edssimo, 701 - Cidade Universit\\u00e1ria Zeferino Vaz, Campinas, S\\u00e3o Paulo, Brasil\\nCEP 13083851\", \"state\": \"SP\", \"city\": \"Campinas\"}, \"source_support\": {\"@country_code\": \"BR\", \"@type\": \"state_research_support_foundation\", \"name\": \"Conselho Nacional de Desenvolvimento e Pesquisa, CNPQ\", \"address\": null, \"state\": \"SP\", \"city\": \"campinas\"}}, \"health_conditions\": {\"hc_code\": {\"@vocabulary\": \"decs\", \"@version\": \"\", \"@code\": \"C14\", \"text\": \"Cardiovascular diseases\", \"text_translation\": [{\"@lang\": \"es\", \"#text\": \"Enfermedades cardiovasculares\"}, {\"@lang\": \"pt-br\", \"#text\": \"Doen\\u00e7as cardiovasculares\"}]}, \"keyword\": [{\"@vocabulary\": \"decs\", \"@version\": \"\", \"@code\": \"M01.774.500\", \"text\": \"Healthy Volunteers\", \"text_translation\": [{\"@lang\": \"es\", \"#text\": \"Voluntarios Sanos\"}, {\"@lang\": \"pt-br\", \"#text\": \"Volunt\\u00e1rios Saud\\u00e1veis\"}]}, {\"@vocabulary\": \"decs\", \"@version\": \"\", \"@code\": \"N02.370\", \"text\": \"Health Promotion\", \"text_translation\": [{\"@lang\": \"es\", \"#text\": \"Promoci\\u00f3n de la Salud\"}, {\"@lang\": \"pt-br\", \"#text\": \"Promo\\u00e7\\u00e3o da Sa\\u00fade\"}]}, {\"@vocabulary\": \"decs\", \"@version\": \"\", \"@code\": \"Q65.040\", \"text\": \"/prevention & control\", \"text_translation\": [{\"@lang\": \"es\", \"#text\": \"/prevenci\\u00f3n & control\"}, {\"@lang\": \"pt-br\", \"#text\": \"/preven\\u00e7\\u00e3o & controle\"}]}, {\"@vocabulary\": \"decs\", \"@version\": \"\", \"@code\": \"N02.628\", \"text\": \"Maintenance\", \"text_translation\": [{\"@lang\": \"es\", \"#text\": \"Mantenimiento\"}, {\"@lang\": \"pt-br\", \"#text\": \"Manuten\\u00e7\\u00e3o\"}]}, {\"@vocabulary\": \"decs\", \"@version\": \"\", \"@code\": \"M01.060.116.100\", \"text\": \"Aged\", \"text_translation\": [{\"@lang\": \"es\", \"#text\": \"Anciano\"}, {\"@lang\": \"pt-br\", \"#text\": \"Idoso\"}]}], \"freetext\": \"Prevention and/or maintaining cardiovascular health in the elderly.\"}, \"interventions\": {\"i_code\": {\"@value\": \"other\"}, \"keyword\": [{\"@vocabulary\": \"decs\", \"@version\": \"\", \"@code\": \"E02.779.483.875\", \"text\": \"Resistance Training\", \"text_translation\": [{\"@lang\": \"es\", \"#text\": \"Entrenamiento de Resistencia\"}, {\"@lang\": \"pt-br\", \"#text\": \"Treinamento de Resist\\u00eancia\"}]}, {\"@vocabulary\": \"decs\", \"@version\": \"\", \"@code\": \"SP4.026.292.663.229\", \"text\": \"Aerobic Treatment\", \"text_translation\": [{\"@lang\": \"es\", \"#text\": \"Tratamiento Aerobio\"}, {\"@lang\": \"pt-br\", \"#text\": \"Tratamento Aer\\u00f3bio\"}]}, {\"@vocabulary\": \"decs\", \"@version\": \"\", \"@code\": \"E02.779.483\", \"text\": \"Exercise Therapy\", \"text_translation\": [{\"@lang\": \"es\", \"#text\": \"Terapia por Ejercicio\"}, {\"@lang\": \"pt-br\", \"#text\": \"Terapia por Exerc\\u00edcio\"}]}], \"freetext\": \"The aim of this study was verify the cardiovascular healthy by the autonomic adaptations to 12 weeks of different training models, therefore before and post the training period the heart rate variability was evaluation and the Maximum dynamic strength test (1-RM) and Peak oxygen uptake (VO2peak), besides these, were also assessed at mid-point (i. e. after 6 weeks of intervention) to adjust the training load. The volunteers were randomized into six groups: control group (CG, n = 11, 66.2\\u00b14.0 years, weight=67.2\\u00b115.0 kg, height=1.58\\u00b10.1m), aerobic training (AT, n= 7, 66.8\\u00b1 5.0 years, weight=67.4\\u00b19.0 kg, height=1.61\\u00b10.1m), high-intensity resistance training (RT-HI, n = 12, 62 \\u00b1 4.5 years, weight=67.8\\u00b114.9 kg, height=1.59\\u00b10.1m),  low-intensity resistance training with blood flow restriction (RT-BFR, n = 09, 64 \\u00b1 3 years, weight=77.0\\u00b118.0 kg, height=1.68\\u00b10.0m), combined training (CT, n=11, 64.1 \\u00b1 3.4 years, weight=68.5\\u00b17.3 kg, height=1.65\\u00b10.0m) and combined training with blood flow restriction (CT-BFR, n=11, 64.1 \\u00b1 3.4 years, weight=71.9\\u00b110.2 kg, height=1.64\\u00b10.0m). The CG was instructed to remain throughout the experimental period without doing any physical training. \\nAerobic training (AT): Individuals either walked or ran for 40 min at intensities varying from 60 to 85 % VO2peak (between Ventilatory Threshold and Respiratory Compensation Point) throughout the training period. After 6 weeks of training, the volume was increased to 50 min.\\nHigh intensity Resistance training (RT-HI): The RT-HI consisted of 4\\u00d710 repetitions 70 % 1-RM in the leg press exercise for the first 6 weeks of training (1-min rest between sets). During the remainder of the training period, intensity was increased to 80 % 1-RM. \\nResistance training without blood flow restriction (RT-BFR): At RT-BFR was performed 1x30 repetitions and 3x15 repetitions 20% 1-RM in the leg press exercise with partial restriction of blood flow (50%) for the first 6 weeks of training (1-min rest between sets). After 6th week the intensity was adjusted to 30% 1-RM. \\nConcurrent training (CT): The CT program consisted the sum of AT and RT-HI sessions  described above. It was realized four times a week, two RT-HI sessions (Mondays and Thursdays) and two AT sessions (Tuesdays and Fridays).\\nConcurrent training with blood flow restriction (CT-BFR): The CT-BFR program consisted the sum of AT and RT-BFR sessions described above. It was realized four times a week, two RT-BFR sessions (Mondays and Thursdays) and two AT sessions (Tuesdays and Fridays). \\nDetermination of the blood flow restriction: Subjects were asked to lie in a supine position while resting comfortably. A vascular Doppler probe (DV-600; Marted, Brazil) was placed over the tibial artery to capture its auscultatory pulse. For the determination of blood pressure (mmHg) necessary for a complete vascular restriction (pulse elimination pressure), a standard blood pressure cuff was attached to the participant\\u2019s thigh (inguinal fold region) and then inflated up to the point in which the auscultatory pulse was interrupted. The cuff pressure used during the training protocol was determined as 50% of the necessary pressure for complete blood flow restriction in a resting condition. The pressure of blood flow restriction was sustained throughout the training session, including the rest intervals, and was released immediately after the end of the training session, with an average of 67 \\u00b1 8.0 mmHg. No adverse effects from the blood flow restriction protocol (e.g., excessive fatigue or pain) were reported by any of the subjects.\\nHeart rate variability: For analysis of HRV before and after the experimental training sessions, registration of resting HR always occurred between 7 and 12 hours in a controlled temperature (21 to 23 \\u00b0 C.), using a specific heart rate monitor (models S-810 and RS800CX, Polar \\u00ae, Finland) to obtain records of beat-to-beat intervals corresponding to between consecutive R waves of the ECG (RR intervals). Before the start of the protocol all procedures were clarified in an attempt to remove any stressor element in the collection environment. The evaluated were kept at rest in the supine position and in silence, keeping awake during the entire protocol. After 5 minutes of rest in the supine position, BP was measured by auscultation. Then the recording began, with a total of 20 minutes of collection of RR intervals in spontaneous breathing and has remained a standard of rest (9-22 breaths per minute) respiratory rate. For HRV analysis, the record was divided into two windows 5min, the average of the two windows of data for processing by the program Kubios HRV Analysis software (MATLAB, version 2 beta, Kuopio, Finland) being used in the time domain, the frequency and nonlinear model. Time domain indices were: mean RR interval (RR-i), standard deviation of all normal RR intervals (SDNN) and root-mean square of differences between adjacent normal RR intervals (rMSSD), in milliseconds, which represents parasympathetic activity. In the frequency domain were included: high-frequency component (high frequency - HF), ranging from 0.15 to 0.4 Hz, which corresponds to the respiratory modulation and is an indicator of the performance of the vagus nerve on the heart; ranging between 0.04 and 0.15 Hz, which is due to the joint action of the vagal and sympathetic components of the heart with sympathetic predominance - Low Frequency (LF Low Frequency) component. For the nonlinear analysis of HRV, the SD1 and SD2 indexes the Poincar\\u00e9 plot (standard deviation of the perpendicular Poincar\\u00e9 plot and standard deviation of long-term continuous RR intervals, respectively) were used, which are representative of the parasympathetic autonomic modulation and overall HRV, respectively.\\nPeak oxygen uptake (VO2peak): The participants performed a maximum graded exercise test on a treadmill (Quinton TM55, Bothell, Washington, EUA). Gas exchange data were collected continuously using an automated breath-by-breath metabolic system (CPX, Medical Graphics,St. Paul, Minnesota, USA). The protocol consisted of a 2-min warm-up at 4 km \\u00b7 h?1, followed by increases in increments of 0.3 km \\u00b7 h?1 every 30 s until exhaustion. A 1 % grade was used to reproduce athletic track conditions. The highest 30 s mean oxygen consumption value was defined as the peak oxygen consumption (VO2peak), as a VO2 plateau was not observed in any of the individuals. 3 experienced researchers detected the ventilator threshold (VT) and respiratory compensation point (RCP) by standard visual analysis.\\nMaximum dynamic strength test (1-RM): Participants performed a general warming cycle ergometer at 25 km\\u2022h-1 during 5 minutes, followed by heating at 45\\u00b0 exercise leg press. In the first set, subjects performed eight repetitions with load corresponding to 50% of their estimated 1-RM, obtained during the familiarization sessions. In the second series, they performed three repetitions with 70% of their estimated 1-RM. An interval of two minutes between sets of heating was performed. After completion of the second series, participants rested for 3 minutes and then executed a maximum of five retries to achieve a 1RM. An interval of three minutes between attempts was met. The tests were performed by a trained evaluator and strong verbal stimulation was provided during attempts.\"}, \"recruitment\": {\"@status\": \"data_analysis_completed\", \"recruitment_country\": {\"@value\": \"BR\"}, \"inclusion_criteria\": \"Volunteers irregularly active or sedentary; both sexes; over 60 years old; non smokers.\", \"exclusion_criteria\": \"Manifestation of ischemic myocardial disease; diabetes; arrhythmias; hypertension; use of medications for the mentioned diseases; joint limitations.\", \"gender\": {\"@value\": \"both\"}, \"agemin\": {\"@value\": \"60\", \"@unit\": \"null\"}, \"agemax\": {\"@value\": \"80\", \"@unit\": \"null\"}, \"date_enrolment_actual\": {\"@start\": \"2012-03-30\", \"@end\": \"2013-07-18\"}, \"target_size\": {\"@value\": \"80\"}}, \"study\": {\"@expanded_access_program\": \"False\", \"@number_of_arms\": \"6\", \"study_design\": \"Clinical trial of prevention, randomized, parallel, open with six arms, longitudinal.\", \"type\": {\"@value\": \"Intervention\"}, \"phase\": {\"@value\": \"null\"}, \"purpose\": {\"@value\": \"prevention\"}, \"intervention_assignment\": {\"@value\": \"parallel\"}, \"masking\": {\"@value\": \"open\"}, \"allocation\": {\"@value\": \"randomized-controlled\"}}, \"outcomes\": {\"primary_outcome\": [{\"@value\": \"It was expected that at least for the training that worked cardiorespiratory fitness had improved heart rate variability and hemodynamic variables as already described in the literature that the higher oxygen consumption greater variability in heart rate and low blood pressure. For the analysis of heart rate variability, the record of resting HR was performed using heart rate monitor (S810i - Polar\\u00ae - Finland) to obtain the beat-to-beat records corresponding to the intervals between consecutive R waves of the electrocardiogram (iRR) in time (RMSSD and SDNN) and frequency domain (LF, HF e LF/HF) and to blood pressure measurement by auscultation, using a mercury column esfigmoman\\u00f4ometro (mmhg) (Narcosul, Brazil). The variables described above were evaluated before and after 12 weeks of the various proposed training (aerobic, high intensity strength, low-intensity strength with blood flow restriction, concurrent and concurrent with blood flow restriction) and control group to eliminate the factor time.\", \"outcome_translation\": [{\"@value\": \"\", \"@lang\": \"es\"}, {\"@value\": \"Esperava-se que pelo menos para os treinamentos que trabalhassem a capacidade cardiorrespirat\\u00f3ria houvesse melhora na variabilidade da frequ\\u00eancia card\\u00edaca e das vari\\u00e1veis hemodin\\u00e2micas visto que j\\u00e1 est\\u00e1 descrito na literatura que quanto maior consumo de oxig\\u00eanio maior variabilidade da frequ\\u00eancia card\\u00edaca e diminui\\u00e7\\u00e3o da press\\u00e3o arterial.  Para an\\u00e1lise da variabilidade da frequ\\u00eancia card\\u00edaca, foi realizado o registro da FC de repouso, utilizando  cardiofrequenc\\u00edmetro  (S810i  - Polar\\u00ae  -  Finl\\u00e2ndia)  para obten\\u00e7\\u00e3o  dos  registros  batimento-a-batimento  correspondentes  aos  intervalos  entre  ondas  R consecutivas do eletrocardiograma (iRR) no dom\\u00ednio do tempo (RMSSD e SDNN) e da frequ\\u00eancia (LF, HF e LF/HF) e para aferi\\u00e7\\u00e3o da press\\u00e3o arterial pelo m\\u00e9todo auscultat\\u00f3rio, utilizando-se de um esfigmoman\\u00f4ometro de coluna de merc\\u00fario (mmhg) (Narcosul, Brazil). As vari\\u00e1veis acima descritas foram avaliadas antes e ap\\u00f3s 12 semanas dos diferentes treinamentos propostos (aer\\u00f3bio; for\\u00e7a de alta intensidade; for\\u00e7a de baixa intensidade com restri\\u00e7\\u00e3o de fluxo sangu\\u00edneo, concorrente e concorrente com restri\\u00e7\\u00e3o de fluxo sangu\\u00edneo) e no grupo controle para eliminar o fator tempo.    \", \"@lang\": \"pt-br\"}]}, {\"@value\": \"For statistical analysis, visual inspection techniques and the Shapiro-Wilk test for the presence of outliers and normality of the data. After we applied a mixed model having group (two levels) and time (two levels) as fixed factors and subjects as random factor for each dependent variable. In the event of significant F ratio values, we used a Tukey adjustment for multiple comparisons, and effect. The significance value was P <0.05 and the statistical package used was the SAS 9.3 for Windows. Despite our initial hypothesis the results showed no changes of variables after the intervention period.\", \"outcome_translation\": [{\"@value\": \"\", \"@lang\": \"es\"}, {\"@value\": \"Para an\\u00e1lise estat\\u00edstica foram utilizadas t\\u00e9cnicas de inspe\\u00e7\\u00e3o visual e o teste de Shapiro-Wilk para verificar a presen\\u00e7a de observa\\u00e7\\u00f5es extremas e a normalidade dos dados. Ap\\u00f3s foi aplicado um modelo misto tendo grupo (dois n\\u00edveis) e tempo (dois n\\u00edveis) como fatores fixos e os sujeitos como fator aleat\\u00f3rio para cada vari\\u00e1vel dependente. Na ocorr\\u00eancia de raz\\u00e3o de valores de F significantes, foi utilizado um ajustamento de Tukey para efeito e compara\\u00e7\\u00f5es m\\u00faltiplas. O valor de signific\\u00e2ncia adotado foi de P<0,05 e o pacote estat\\u00edstico utilizado foi o SAS 9.3 for Windows. Apesar de nossa hip\\u00f3tese inicial os resultados n\\u00e3o demonstraram altera\\u00e7\\u00f5es das vari\\u00e1veis analisadas ap\\u00f3s o per\\u00edodo de interven\\u00e7\\u00e3o.\", \"@lang\": \"pt-br\"}]}], \"secondary_outcome\": [{\"@value\": \"Evaluations described below were used for calculation (pre-training), adjust (sixth training week) of training load and within the specificity of each type of training is expected to improve (after training) force (high-intensity strength training and with low blood flow restriction and concurrent training with and without blood flow restriction) and cardiorespiratory fitness (aerobic training and concurrent training with and without blood flow restriction).  Peak oxygen uptake (VO2peak ml/kg/min) The participants performed a maximum graded exercise test on a treadmill (Quinton TM55, Bothell, Washington, EUA). Gas exchange data were collected continuously using an automated breath-by-breath metabolic system (CPX, Medical Graphics,St. Paul, Minnesota, USA). The protocol consisted of a 2-min warm-up at 4 km \\u00b7 h?1, followed by increases in increments of 0.3 km \\u00b7 h?1 every 30 s until exhaustion. A 1 % grade was used to reproduce athletic track conditions. The highest 30 s mean oxygen consumption value was defined as the peak oxygen consumption (VO2peak), as a VO2 plateau was not observed in any of the individuals. 3 experienced researchers detected the ventilatory threshold (VT) and respiratory compensation point (RCP) by standard visual analysis. Maximum dynamic strength test (1-RM) The procedures for the 45 \\u00b0 leg press 1-RM test followed previously described criteria. In short, participants performed a general warm-up on a cycle ergometer at 20 km \\u00b7 h ? 1 for 5 min, followed by specific warm-up sets of 45 \\u00b0 leg press exercise. In the first set, individuals performed 8 repetitions with a load corresponding to 50 % of their estimated 1-RM, obtained during the familiarization sessions. In the second set, they performed 3 repetitions at 70 % of their estimated 1RM. A 2-min interval was allowed between warm-up sets. After warming-up, the participants performed the leg-press 1-RM test protocol. First, they were seated in the machine and placed both feet in a self-selected position. The area of the leg press platform was divided into 10-cm squares to keep record of the feet location, which was reproduced thereafter. The machine was then unlocked, and the platform was lowered until a relative knee angle of 90 \\u00b0 (i. e.measured with a manual goniometer) was obtained. The displacement of the leg press platform was reproduced in each trial by fixing a plastic device on the sliding track of the machine. The repetition started at complete knee extension, and participants lowered the platform until it touched the plastic device and then returned to full extension. Participants had up to 5 attempts to achieve an estimation of the leg press 1-RM. A 3-min interval was enforced between attempts.\", \"outcome_translation\": [{\"@value\": \"\", \"@lang\": \"es\"}, {\"@value\": \"As avalia\\u00e7\\u00f5es abaixo descritas foram utilizadas para calculo (pr\\u00e9 treino), ajuste (sexta semana de treino) de carga de treino e dentro da especificidade de cada tipo de treino espera-se melhora (p\\u00f3s treino) de for\\u00e7a (treino de for\\u00e7a de alta intensidade e de baixa com restri\\u00e7\\u00e3o de fluxo sangu\\u00edneo e os treinos concorrente com e sem restri\\u00e7\\u00e3o de fluxo sangu\\u00edneo)  e da capacidade cardiorrespirat\\u00f3ria (treino aer\\u00f3bio e os treinos concorrente com e sem restri\\u00e7\\u00e3o de fluxo sangu\\u00edneo).  Avalia\\u00e7\\u00e3o cardiorrespirat\\u00f3ria (VO2 ml/kg/min) Os volunt\\u00e1rios realizar\\u00e3o um teste em esteira ergom\\u00e9trica (Quinton TM55. Bothell, ashington, EUA), onde as trocas gasosas ser\\u00e3o coletadas continuamente, respira\\u00e7\\u00e3o a respira\\u00e7\\u00e3o, por meio de um sistema metab\\u00f3lico de an\\u00e1lise de gases (CPX, Medical Graphics, St. Paul, Minnesota, USA). O protocolo consistiu de uma velocidade inicial de aquecimento de 4 km/h por 2 minutos, seguidos de acr\\u00e9scimos de 0,3 km/h a cada 30 s, com uma inclina\\u00e7\\u00e3o constante de 1% at\\u00e9 a exaust\\u00e3o f\\u00edsica. Em seguida um per\\u00edodo de 4 minutos de recupera\\u00e7\\u00e3o, sendo o primeiro minuto \\u00e0 5 km/h, reduzindo-se 1 Km/h a cada minuto.  Limiar ventilat\\u00f3rio (LV), ponto de compensa\\u00e7\\u00e3o respirat\\u00f3ria (RCP) e consumo m\\u00e1ximo de oxig\\u00eanio (VO2m\\u00e1x.) O LV e o RCP ser\\u00e3o determinados por meio de uma an\\u00e1lise visual gr\\u00e1fica, realizada por tr\\u00eas observadores foram previamente treinados, e familiarizados com o sistema CPX da Medical Graphics. J\\u00e1 consumo m\\u00e1ximo de oxig\\u00eanio ser\\u00e1 expresso a partir da m\\u00e9dia dos valores de consumo de oxig\\u00eanio obtido nos \\u00faltimos 30 segundos da avalia\\u00e7\\u00e3o cardiorrespirat\\u00f3ria.  Avalia\\u00e7\\u00e3o da for\\u00e7a m\\u00e1xima din\\u00e2mica (kilogramas) Ser\\u00e1 realizada por meio da avalia\\u00e7\\u00e3o de uma repeti\\u00e7\\u00e3o m\\u00e1xima (1-RM) seguindo as orienta\\u00e7\\u00f5es da American Society of Exercise Physiologists (ASEP), para avalia\\u00e7\\u00e3o da for\\u00e7a m\\u00e1xima din\\u00e2mica. Antes do teste os volunt\\u00e1rios realizar\\u00e3o um aquecimento geral de cinco minutos em pista de atletismo. Ap\\u00f3s o aquecimento geral, os sujeitos realizar\\u00e3o um aquecimento espec\\u00edfico consistindo de duas s\\u00e9ries de oito e tr\\u00eas repeti\\u00e7\\u00f5es com cargas ao redor de 50% e 70% da carga estimada para 1-RM [65].  Ap\\u00f3s o aquecimento espec\\u00edfico, um intervalo de tr\\u00eas minutos ser\\u00e1 dado antes dos volunt\\u00e1rios serem submetidos ao teste. Este teste consistir\\u00e1 na obten\\u00e7\\u00e3o da m\\u00e1xima quantidade de peso que pode ser levantada em um ciclo completo (flex\\u00e3o-extens\\u00e3o) do exerc\\u00edcio. A carga inicial para o teste m\\u00e1ximo ser\\u00e1 estimada durante as sess\\u00f5es de familiariza\\u00e7\\u00e3o, e a partir disso, o peso levantado ser\\u00e1 aumentado at\\u00e9 que o volunt\\u00e1rio n\\u00e3o consiga completar uma repeti\\u00e7\\u00e3o com aquela carga. O n\\u00famero total de tentativas para achar o valor de 1-RM n\\u00e3o poder\\u00e1 ser maior que cinco. Entre as tentativas haver\\u00e1 um intervalo de tr\\u00eas minutos.  \", \"@lang\": \"pt-br\"}]}, {\"@value\": \"After statistical analysis described in primary outcomes as expected were improved strength to the training already specified and the variable VO2 there was no improvement in the aerobic training group.\", \"outcome_translation\": [{\"@value\": \"\", \"@lang\": \"es\"}, {\"@value\": \"Ap\\u00f3s an\\u00e1lise estat\\u00edstica descrita em desfechos prim\\u00e1rios conforme esperado houve melhora da for\\u00e7a para os treinos j\\u00e1 especificados e para a vari\\u00e1vel VO2 n\\u00e3o houve melhora para o grupo treinamento aer\\u00f3bio.\", \"@lang\": \"pt-br\"}]}]}, \"contacts\": {\"person\": [{\"@pid\": \"9472\", \"@country_code\": \"BR\", \"firstname\": \"Mara Patr\\u00edcia\", \"middlename\": \"Traina Chacon\", \"lastname\": \"Mikahil\", \"address\": \"Av. Erico Verissimo, 701\", \"city\": \"Bar\\u00e3o Geraldo\", \"zip\": \"13.085-05\", \"telephone\": \"+55(19)3521 6625\", \"email\": \"marapatricia@fef.unicamp.br\", \"affiliation\": {\"@country_code\": \"BR\", \"@type\": \"higher_education_institution\", \"name\": \"Faculdade de Educa\\u00e7\\u00e3o F\\u00edsica, Laborat\\u00f3rio de Fisiologia do Exerc\\u00edcio, Universidade Estadual de Campinas\", \"address\": \"Faculdade de Educa\\u00e7\\u00e3o F\\u00edsica\\nAv Erico Ver\\u00edssimo, 701 - Cidade Universit\\u00e1ria Zeferino Vaz, Campinas, S\\u00e3o Paulo, Brasil\\nCEP 13083851\"}}, {\"@pid\": \"8746\", \"@country_code\": \"BR\", \"firstname\": \"Mara Patr\\u00edcia\", \"middlename\": \"Traina\", \"lastname\": \"Chacon Mikahil\", \"address\": \"Av \\u00c9rico Ver\\u00edssimo, 701 - Cidade Universit\\u00e1ria \\\"Zeferino Vaz\\\"\", \"city\": \"Campinas\", \"zip\": \"6134\", \"telephone\": \"55 19 35216780\", \"email\": \"marapatricia@fef.unicamp.br\", \"affiliation\": {\"@country_code\": \"BR\", \"@type\": \"higher_education_institution\", \"name\": \"Faculdade de Educa\\u00e7\\u00e3o F\\u00edsica, Laborat\\u00f3rio de Fisiologia do Exerc\\u00edcio, Universidade Estadual de Campinas\", \"address\": \"Faculdade de Educa\\u00e7\\u00e3o F\\u00edsica\\nAv Erico Ver\\u00edssimo, 701 - Cidade Universit\\u00e1ria Zeferino Vaz, Campinas, S\\u00e3o Paulo, Brasil\\nCEP 13083851\"}}, {\"@pid\": \"9470\", \"@country_code\": \"BR\", \"firstname\": \"Mara Patr\\u00edcia\", \"middlename\": \"Traina Chacon\", \"lastname\": \"Mikahil\", \"address\": \"Av. Erico Verissimo, 701\", \"city\": \"Bar\\u00e3o Geraldo\", \"zip\": \"13.085-05\", \"telephone\": \"+55(19)3521 6625\", \"email\": \"marapatricia@fef.unicamp.br\", \"affiliation\": {\"@country_code\": \"BR\", \"@type\": \"higher_education_institution\", \"name\": \"Faculdade de Educa\\u00e7\\u00e3o F\\u00edsica, Laborat\\u00f3rio de Fisiologia do Exerc\\u00edcio, Universidade Estadual de Campinas\", \"address\": \"Faculdade de Educa\\u00e7\\u00e3o F\\u00edsica\\nAv Erico Ver\\u00edssimo, 701 - Cidade Universit\\u00e1ria Zeferino Vaz, Campinas, S\\u00e3o Paulo, Brasil\\nCEP 13083851\"}}, {\"@pid\": \"9471\", \"@country_code\": \"BR\", \"firstname\": \"Mara Patr\\u00edcia\", \"middlename\": \"Traina Chacon\", \"lastname\": \"Mikahil\", \"address\": \"Av. Erico Verissimo, 701\", \"city\": \"Bar\\u00e3o Geraldo\", \"zip\": \"13.085-05\", \"telephone\": \"+55(19)3521 6625\", \"email\": \"marapatricia@fef.unicamp.br\", \"affiliation\": {\"@country_code\": \"BR\", \"@type\": \"higher_education_institution\", \"name\": \"Faculdade de Educa\\u00e7\\u00e3o F\\u00edsica, Laborat\\u00f3rio de Fisiologia do Exerc\\u00edcio, Universidade Estadual de Campinas\", \"address\": \"Faculdade de Educa\\u00e7\\u00e3o F\\u00edsica\\nAv Erico Ver\\u00edssimo, 701 - Cidade Universit\\u00e1ria Zeferino Vaz, Campinas, S\\u00e3o Paulo, Brasil\\nCEP 13083851\"}}], \"public_contact\": {\"@person\": \"9470\"}, \"scientific_contact\": [{\"@person\": \"8746\"}, {\"@person\": \"9471\"}], \"site_contact\": {\"@person\": \"9472\"}}, \"secondary_ids\": {\"secondary_id\": {\"sec_id\": \"CEP 1303/2011\", \"issuing_authority\": \"Comit\\u00ea de \\u00c9tica em Pesquisa da Faculdade de Ci\\u00eancias M\\u00e9dicas da Unicamp.\"}}, \"references\": {\"link\": {\"@url\": \"http://www.ensaiosclinicos.gov.br/rg/RBR-83484y/v1/\"}}, \"translation\": [{\"@lang\": \"es\", \"public_title\": null, \"acronym\": null, \"acronym_expansion\": null, \"scientific_title\": null, \"scientific_acronym\": null, \"scientific_acronym_expansion\": null, \"hc_freetext\": null, \"i_freetext\": null, \"inclusion_criteria\": null, \"exclusion_criteria\": null, \"study_design\": null}, {\"@lang\": \"pt-br\", \"public_title\": \"Atividade f\\u00edsica e sa\\u00fade em idosos.\", \"acronym\": null, \"acronym_expansion\": null, \"scientific_title\": \"Treinamento de for\\u00e7a e concorrente com oclus\\u00e3o vascular: respostas da variabilidade da frequ\\u00eancia card\\u00edaca, inflama\\u00e7\\u00e3o sist\\u00eamica e adapta\\u00e7\\u00f5es neuromusculares de homens e mulheres.\", \"scientific_acronym\": null, \"scientific_acronym_expansion\": null, \"hc_freetext\": \"Preven\\u00e7\\u00e3o e/ ou manuten\\u00e7\\u00e3o da sa\\u00fade cardiovascular em idosos.\", \"i_freetext\": \"O objetivo deste estudo foi verificar a sa\\u00fade cardiovascular pelas adapta\\u00e7\\u00f5es auton\\u00f4micas a 12 semanas de diferentes tipos de treinamento f\\u00edsico, portanto, antes e p\\u00f3s o per\\u00edodo de treinamento a variabilidade da frequ\\u00eancia card\\u00edaca (VFC) foi a avaliada. For\\u00e7a m\\u00e1xima (1-RM) e Consumo pico de oxig\\u00eanio (VO2pico), al\\u00e9m de pr\\u00e9 e p\\u00f3s interven\\u00e7\\u00e3o, tamb\\u00e9m foram avaliados no ponto m\\u00e9dio (isto \\u00e9, depois de 6 semanas de interven\\u00e7\\u00e3o) para ajustar a carga de treino. Os volunt\\u00e1rios foram divididos aleatoriamente em seis grupos: grupo controle (GC, n = 11, 66,2 \\u00b1 4,0 anos, peso = 67,2 \\u00b1 15,0 kg, altura = 1,58 \\u00b1 0,1 M), treinamento aer\\u00f3bio (TA, n = 7, 66,8 \\u00b1 5,0 anos , peso = 67,4 \\u00b1 9,0 kg, altura = 1,61 \\u00b1 0,1 m), treinamento de for\\u00e7a de alta intensidade (TF-AI, n = 12, 62 \\u00b1 4,5 anos, peso = 67,8 \\u00b1 14,9 kg, altura = 1,59 \\u00b1 0,1 m), treinamento de for\\u00e7a de baixa intensidade com restri\\u00e7\\u00e3o de fluxo sangu\\u00edneo (TF-RFS, n = 09, 64 \\u00b1 3 anos, peso = 77,0 \\u00b1 18,0 kg, altura = 1,68 \\u00b1 0.0m),  treinamento combinado (TC, n = 11, 64,1 \\u00b1 3,4 anos, peso = 68,5 \\u00b1 7,3 kg, altura = 1,65 \\u00b1 0.0m) e treinamento combinado com restri\\u00e7\\u00e3o de fluxo sangu\\u00edneo (TC-RSF, n = 11, 64,1 \\u00b1 3,4 anos, peso = 71,9 \\u00b1 10,2 kg, altura = 1,64 \\u00b1 0.0m ). O GC foi instru\\u00eddo a permanecer durante todo o per\\u00edodo experimental, sem fazer qualquer treinamento f\\u00edsico. \\nTA: Os volunt\\u00e1rios  foram orientados a andar ou correr durante 40 minutos em intensidades variando de 60 a 85% VO2pico (entre limiar ventilat\\u00f3rio e ponto de compensa\\u00e7\\u00e3o respirat\\u00f3rio) durante todo o per\\u00edodo de treinamento. Ap\\u00f3s seis semanas de forma\\u00e7\\u00e3o, o volume foi aumentado para 50 min.\\nTF-RFS: Consistiu de 4 \\u00d7 10 repeti\\u00e7\\u00f5es de 70% de 1-RM no exerc\\u00edcio leg press para as primeiras seis semanas de treinamento (descanso de 1 min entre as s\\u00e9ries). Durante o resto do per\\u00edodo de forma\\u00e7\\u00e3o, a intensidade foi aumentada para 80% de 1-RM.\\nTF-RFS: Foram realizadas 1x30 repeti\\u00e7\\u00f5es e 3x15 repeti\\u00e7\\u00f5es a 20% de 1-RM no exerc\\u00edcio leg press com restri\\u00e7\\u00e3o parcial do fluxo sangu\\u00edneo (50%) para as primeiras seis semanas de treinamento (descanso de 1 min entre as s\\u00e9ries). Ap\\u00f3s 6 semanas a intensidade foi ajustada para 30% de 1-RM. \\nTC: Consistiu da soma das sess\\u00f5es de TA e TF-RSF descritos acima. Foram realizadas quatro vezes por semana, duas sess\\u00f5es TF-RFS (segundas e quintas) e duas sess\\u00f5es TA (ter\\u00e7as-feiras e sextas-feiras).\\nCT-RFS: O programa de CT-BFR consistiu de AT e RT-BFR descrito acima. Foi realizado quatro vezes por semana, duas sess\\u00f5es de RT-BFR (segundas e quintas-feiras) e dois AT sess\\u00f5es (ter\\u00e7as-feiras e sextas-feiras). \\nDetermina\\u00e7\\u00e3o da restri\\u00e7\\u00e3o do fluxo sangu\\u00edneo: Para determina\\u00e7\\u00e3o da press\\u00e3o (mmHg) de restri\\u00e7\\u00e3o do fluxo sangu\\u00edneo, os volunt\\u00e1rios permaneceram em repouso  na posi\\u00e7\\u00e3o supina. Um Doppler vascular (DV-600; Marted, Ribeir\\u00e3o Preto, S\\u00e3o Paulo, Brazil) foi posicionado sobre a art\\u00e9ria tibial para obten\\u00e7\\u00e3o de pulso auscultat\\u00f3rio, na perna esquerda. Neste mesmo membro, foi posicionado na regi\\u00e3o superior da coxa um manguito de press\\u00e3o padronizado (180 mm de largura x 80 mm comprimento), que foi inflado at\\u00e9 haver interrup\\u00e7\\u00e3o do pulso auscultat\\u00f3rio da art\\u00e9ria tibial, sendo este valor de press\\u00e3o em mm Hg, considerado como a press\\u00e3o de restri\\u00e7\\u00e3o total de pulso.  A partir dos valores individuais da press\\u00e3o de restri\\u00e7\\u00e3o total de pulso, a press\\u00e3o de restri\\u00e7\\u00e3o parcial utilizada para as sess\\u00f5es de treinamento com restri\\u00e7\\u00e3o de fluxo sangu\\u00edneo foi estabelecida em 50% da press\\u00e3o de restri\\u00e7\\u00e3o total. Esta  press\\u00e3o sangu\\u00ednea de restri\\u00e7\\u00e3o parcial do fluxo sangu\\u00edneo foi mantida constante durante toda a sess\\u00e3o de treinamento, incluindo os intervalos entre as s\\u00e9ries, sendo em m\\u00e9dia de 67 \\u00b1 8.0 mmHg para os  grupos estudados. N\\u00e3o houve efeitos adversos do protocolo de restri\\u00e7\\u00e3o de fluxo sangu\\u00edneo (por exemplo, fadiga excessiva ou dor) foram relatados por qualquer um dos pacientes.\\nVariabilidade da frequ\\u00eancia da card\\u00edaca (VFC): Para an\\u00e1lise da VFC antes e ap\\u00f3s as sess\\u00f5es experimentais de treinamento, o registro da frequ\\u00eancia card\\u00edaca de repouso ocorreu sempre entre as 7 e 12 horas, em temperatura controlada (21 a 23\\u00baC.), utilizando um cardiofrequenc\\u00edmetro espec\\u00edfico (modelos S-810 e RS800CX, Polar\\u00ae, Finl\\u00e2ndia) para obten\\u00e7\\u00e3o  dos  registros  batimento-a-batimento  correspondentes  aos  intervalos  entre  ondas  R consecutivas do eletrocardiograma (iRR) (GAMELIN et.al, 2006; NUNAN et al., 2009). Antes do in\\u00edcio do protocolo todos os procedimentos foram esclarecidos na tentativa de eliminar qualquer elemento estressor no ambiente da coleta. Os avaliados foram mantidos  em repouso na posi\\u00e7\\u00e3o supina e em sil\\u00eancio, mantendo-se acordados durante todo o protocolo. Ap\\u00f3s 5 minutos de repouso na posi\\u00e7\\u00e3o supina, a PA foi aferida por m\\u00e9todo auscultat\\u00f3rio. Em seguida, o registro foi iniciado, sendo um total de 20 minutos de coleta dos intervalos R-R em respira\\u00e7\\u00e3o espont\\u00e2nea e manteve-se uma frequ\\u00eancia respirat\\u00f3ria padr\\u00e3o de repouso (9-22 respira\\u00e7\\u00f5es por minuto).  O registro foi dividido em duas janelas de 5min, sendo utilizado a m\\u00e9dia das duas janelas de dados para processamento pelo programa Kubios HRV Analysis software (MATLAB, version 2 beta, Kuopio, Finland) no dom\\u00ednio do tempo, da frequ\\u00eancia e modelo n\\u00e3o linear. No dom\\u00ednio do tempo os \\u00edndices utilizados foram: m\\u00e9dia do intervalo R-R (i-RR), desvio padr\\u00e3o de todos os intervalos RR normais (SDNN) e raiz quadrada da m\\u00e9dia do quadrado das diferen\\u00e7as entre intervalos RR normais adjacentes (rMSSD), em milissegundos, o qual representa a atividade parassimp\\u00e1tica. No dom\\u00ednio da frequ\\u00eancia foram inclu\\u00eddos: componente de alta frequ\\u00eancia (High Frequency - HF), com varia\\u00e7\\u00e3o de 0,15 a 0,4Hz, que corresponde \\u00e0 modula\\u00e7\\u00e3o respirat\\u00f3ria e \\u00e9 um indicador da atua\\u00e7\\u00e3o do nervo vago sobre o cora\\u00e7\\u00e3o; componente de baixa frequ\\u00eancia (Low Frequency - LF), com varia\\u00e7\\u00e3o entre 0,04 e 0,15Hz, que \\u00e9 decorrente da a\\u00e7\\u00e3o conjunta dos componentes vagal e simp\\u00e1tico sobre o cora\\u00e7\\u00e3o, com predomin\\u00e2ncia do simp\\u00e1tico. Para a an\\u00e1lise n\\u00e3o linear da VFC  foram utilizados os \\u00edndices SD1 e SD2 da plotagem de Poincar\\u00e9 (desvio padr\\u00e3o da plotagem perpendicular de Poincar\\u00e9 e  desvio-padr\\u00e3o a longo prazo de intervalos R-R cont\\u00ednuos, respectivamente), os quais s\\u00e3o representativos da modula\\u00e7\\u00e3o auton\\u00f4mica parassimp\\u00e1tica e VFC total, respectivamente.\\nConsumo pico de oxig\\u00eanio - VO2pico: Os volunt\\u00e1rios realizaram um teste em esteira ergom\\u00e9trica (Quinton TM55. Bothell, Washington, EUA), onde as trocas gasosas foram coletadas continuamente, respira\\u00e7\\u00e3o a respira\\u00e7\\u00e3o, por meio de um sistema metab\\u00f3lico de an\\u00e1lise de gases (CPX, Medical Graphics, St. Paul, Minnesota, EUA). O protocolo consistiu de uma velocidade inicial de aquecimento de 4 km/h por 2 minutos, seguidos de acr\\u00e9scimos de 0,3 km/h a cada 30 s, com uma inclina\\u00e7\\u00e3o constante de 1%  at\\u00e9 a exaust\\u00e3o f\\u00edsica. O consumo m\\u00e1ximo de oxig\\u00eanio foi expresso a partir da m\\u00e9dia dos valores de consumo de oxig\\u00eanio obtido nos \\u00faltimos 30 segundos da avalia\\u00e7\\u00e3o cardiorrespirat\\u00f3ria. O Limiar Ventilat\\u00f3rio e o Ponto de Compensa\\u00e7\\u00e3o Respirat\\u00f3rio foram determinados por meio de uma an\\u00e1lise visual gr\\u00e1fica realizada por tr\\u00eas observadores previamente treinados, e familiarizados com o sistema CPX da Medical Graphics.\\nAvalia\\u00e7\\u00e3o da for\\u00e7a m\\u00e1xima din\\u00e2mica \\u2013 1-RM: Os participantes realizaram um aquecimento geral em cicloerg\\u00f4metro a 25 km \\u2022 h-1 por 5 minutos, seguido de um aquecimento no exerc\\u00edcio 45 \\u00b0 leg-press. Na primeira s\\u00e9rie, os indiv\\u00edduos realizaram oito repeti\\u00e7\\u00f5es com carga correspondente a 50% da sua 1-RM estimada, obtidas durante as sess\\u00f5es de familiariza\\u00e7\\u00e3o. Na segunda s\\u00e9rie, eles realizaram tr\\u00eas repeti\\u00e7\\u00f5es com 70% da sua 1-RM estimado. Foi realizado um intervalo de 2 minutos entre as s\\u00e9ries de aquecimento. Ap\\u00f3s a conclus\\u00e3o da segunda s\\u00e9rie, os participantes descansaram por 3 minutos e depois executaram no m\\u00e1ximo cinco tentativas para alcan\\u00e7ar sua 1-RM. Um intervalo de 3 minutos entre as tentativas foi cumprido. Os testes foram realizados por um avaliador experiente e forte encorajamento verbal foi fornecido durante as tentativas.\", \"inclusion_criteria\": \"Volunt\\u00e1rios irregularmente ativos ou sedent\\u00e1rios; ambos sexos; acima de 60 anos; n\\u00e3o fumantes.\", \"exclusion_criteria\": \"Manifesta\\u00e7\\u00e3o de doen\\u00e7a isqu\\u00eamica do mioc\\u00e1rdio; diabetes; arritmias; hipertens\\u00e3o arterial; uso de medicamentos para as doen\\u00e7as mencionadas; limita\\u00e7\\u00f5es articulares.\", \"study_design\": \"Ensaio cl\\u00ednico de preven\\u00e7\\u00e3o, randomizado, paralelo, aberto, com seis bra\\u00e7os, longitudinal.\"}]}\n"
     ]
    }
   ],
   "source": [
    "#quick check to make sure things worked\n",
    "print(rebec_trials[114])"
   ]
  },
  {
   "cell_type": "code",
   "execution_count": 17,
   "metadata": {},
   "outputs": [
    {
     "name": "stdout",
     "output_type": "stream",
     "text": [
      "Success!: 2858 trials\n"
     ]
    }
   ],
   "source": [
    "#check\n",
    "if len(rebec_trials) == trial_count:\n",
    "    print(\"Success!: {} trials\".format(trial_count))\n",
    "else:\n",
    "    print(\"Scrape Issue: {} on Rebec, {} in scrape\".format(trial_count, len(rebec_trials)))"
   ]
  },
  {
   "cell_type": "code",
   "execution_count": 15,
   "metadata": {},
   "outputs": [],
   "source": [
    "#creates a csv with no headers and a single column with all trials in json in their own row.\n",
    "\n",
    "from datetime import date\n",
    "import csv\n",
    "\n",
    "def rebec_csv():\n",
    "    with open('rebec - ' + str(date.today()) + '.csv','w', newline = '')as rebec_csv:\n",
    "        writer=csv.writer(rebec_csv)\n",
    "        for val in rebec_trials:\n",
    "            writer.writerow([val])"
   ]
  },
  {
   "cell_type": "code",
   "execution_count": 16,
   "metadata": {},
   "outputs": [],
   "source": [
    "#rebec_csv()"
   ]
  },
  {
   "cell_type": "code",
   "execution_count": null,
   "metadata": {},
   "outputs": [],
   "source": []
  }
 ],
 "metadata": {
  "jupytext": {
   "formats": "ipynb,py:light"
  },
  "kernelspec": {
   "display_name": "Python 3",
   "language": "python",
   "name": "python3"
  },
  "language_info": {
   "codemirror_mode": {
    "name": "ipython",
    "version": 3
   },
   "file_extension": ".py",
   "mimetype": "text/x-python",
   "name": "python",
   "nbconvert_exporter": "python",
   "pygments_lexer": "ipython3",
   "version": "3.7.3"
  }
 },
 "nbformat": 4,
 "nbformat_minor": 2
}
