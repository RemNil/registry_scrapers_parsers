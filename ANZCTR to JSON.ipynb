{
 "cells": [
  {
   "cell_type": "code",
   "execution_count": null,
   "metadata": {},
   "outputs": [],
   "source": [
    "from selenium import webdriver\n",
    "from selenium.webdriver.common.keys import Keys\n",
    "from selenium.webdriver.common.by import By\n",
    "#from selenium.webdriver.support.ui import WebDriverWait\n",
    "#from selenium.webdriver.support import expected_conditions as EC\n",
    "#from selenium.common.exceptions import TimeoutException\n",
    "from time import sleep\n",
    "import os\n",
    "\n",
    "chrome_driver = '/Users/nicholasdevito/Dropbox/Python projects/ANZCTR/chromedriver'\n",
    "download_directory = '/Users/nicholasdevito/Desktop/Test ANZTR Test' #changed as needed for full program"
   ]
  },
  {
   "cell_type": "code",
   "execution_count": null,
   "metadata": {},
   "outputs": [],
   "source": [
    "#low count ANZCTR test URL\n",
    "test_anzctr = 'http://www.anzctr.org.au/TrialSearch.aspx?searchTxt=&conditionCategory=Ear&conditionCode=&interventionCodeOperator=OR&interventionCode=&ageGroup=&healthyVolunteers=&gender=All&allocationToIntervention=Randomised&dateOfRegistrationFrom=&dateOfRegistrationTo=&trialStartDateFrom=&trialStartDateTo=&recruitmentCountryOperator=OR&countryOfRecruitment=&primarySponsorType=&fundingSource=&healthCondition=&interventionDescription=&phase=&recruitmentStatus=&registry=ANZCTR&ethicsReview=&studyType=&isBasic=False&postcode=&distance='\n",
    "\n",
    "#actual URL to use for full download\n",
    "all_anzctr = 'http://www.anzctr.org.au/TrialSearch.aspx?searchTxt=&conditionCategory=&conditionCode=&interventionCodeOperator=OR&interventionCode=&ageGroup=&healthyVolunteers=&gender=&allocationToIntervention=&dateOfRegistrationFrom=&dateOfRegistrationTo=&trialStartDateFrom=&trialStartDateTo=&recruitmentCountryOperator=OR&countryOfRecruitment=&primarySponsorType=&fundingSource=&healthCondition=&interventionDescription=&phase=&recruitmentStatus=&registry=ANZCTR&ethicsReview=&studyType=&isBasic=False&postcode=&distance='"
   ]
  },
  {
   "cell_type": "code",
   "execution_count": null,
   "metadata": {},
   "outputs": [],
   "source": [
    "#this gets the zip file from the ANZCTR\n",
    "\n",
    "chromeOptions = webdriver.ChromeOptions()\n",
    "prefs = {\"download.default_directory\" : download_directory}\n",
    "chromeOptions.add_experimental_option(\"prefs\",prefs)\n",
    "driver = webdriver.Chrome(executable_path=chrome_driver, options=chromeOptions)\n",
    "driver.get(test_anzctr)\n",
    "sleep(5)\n",
    "driver.execute_script(\"document.getElementById('ctl00_body_btnDownload').click()\")\n",
    "\n",
    "#makes sure the file is finished downloading before quitting the driver\n",
    "dl_check = 0\n",
    "while dl_check == 0:\n",
    "    count = 0\n",
    "    for file in os.listdir(download_directory):\n",
    "        if file.endswith(\".crdownload\"):\n",
    "            count = count+1\n",
    "    if count == 0:\n",
    "        dl_check = 1\n",
    "        driver.quit()\n",
    "    else:\n",
    "        dl_check = 0\n",
    "        sleep(3)"
   ]
  },
  {
   "cell_type": "code",
   "execution_count": null,
   "metadata": {},
   "outputs": [],
   "source": [
    "#gets the name of the downloaded zip file\n",
    "\n",
    "zip_file = ''\n",
    "for file in os.listdir(download_directory):\n",
    "    if file.endswith('.zip'):\n",
    "        zip_file = file\n",
    "\n",
    "print(zip_file)\n"
   ]
  },
  {
   "cell_type": "code",
   "execution_count": null,
   "metadata": {},
   "outputs": [],
   "source": [
    "#unzips it and then gets rid of it\n",
    "\n",
    "import zipfile\n",
    "zip_ref = zipfile.ZipFile(download_directory + '/' + zip_file, 'r')\n",
    "zip_ref.extractall(download_directory)\n",
    "zip_ref.close()\n",
    "\n",
    "#cleans up xml file after extraction\n",
    "for file in os.listdir(download_directory):\n",
    "    if file.endswith('.zip'):\n",
    "        os.remove(download_directory + '/' + zip_file)\n",
    "#can also clean up .xsl file if wanted but probably not necessary"
   ]
  },
  {
   "cell_type": "code",
   "execution_count": null,
   "metadata": {},
   "outputs": [],
   "source": [
    "import xmltodict\n",
    "import json\n",
    "import os\n",
    "import pandas as pd"
   ]
  },
  {
   "cell_type": "code",
   "execution_count": null,
   "metadata": {},
   "outputs": [],
   "source": [
    "anzctr_trials_list = []\n",
    "directory = '/Users/nicholasdevito/Desktop/Test ANZTR Test' #make this the name or path of whatever the directory containing your files is from above"
   ]
  },
  {
   "cell_type": "code",
   "execution_count": null,
   "metadata": {},
   "outputs": [],
   "source": [
    "for file in os.listdir(download_directory):\n",
    "    if file.endswith('.xml'):\n",
    "        with open(download_directory + '/' + file) as test:\n",
    "            doc = xmltodict.parse(test.read())\n",
    "            anzctr_trials_list.append(str(json.dumps(doc)))"
   ]
  },
  {
   "cell_type": "code",
   "execution_count": null,
   "metadata": {},
   "outputs": [],
   "source": [
    "print(anzctr_trials_list[0])"
   ]
  },
  {
   "cell_type": "code",
   "execution_count": null,
   "metadata": {},
   "outputs": [],
   "source": [
    "#this creates a csv with no headers and a single column with all trials in json in their own row.\n",
    "\n",
    "import csv\n",
    "with open('test.csv','w', newline = '')as test_csv:\n",
    "    writer=csv.writer(test_csv)\n",
    "    for val in anzctr_trials_list:\n",
    "        writer.writerow([val])"
   ]
  },
  {
   "cell_type": "code",
   "execution_count": null,
   "metadata": {},
   "outputs": [],
   "source": [
    "#next thing to think about: working with this list to extract info rather than using messy BQ and SQL"
   ]
  },
  {
   "cell_type": "code",
   "execution_count": null,
   "metadata": {},
   "outputs": [],
   "source": []
  }
 ],
 "metadata": {
  "kernelspec": {
   "display_name": "Python 3",
   "language": "python",
   "name": "python3"
  },
  "language_info": {
   "codemirror_mode": {
    "name": "ipython",
    "version": 3
   },
   "file_extension": ".py",
   "mimetype": "text/x-python",
   "name": "python",
   "nbconvert_exporter": "python",
   "pygments_lexer": "ipython3",
   "version": "3.6.7"
  }
 },
 "nbformat": 4,
 "nbformat_minor": 2
}
