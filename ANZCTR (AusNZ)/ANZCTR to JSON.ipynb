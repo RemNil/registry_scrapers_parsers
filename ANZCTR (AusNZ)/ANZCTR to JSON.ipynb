{
 "cells": [
  {
   "cell_type": "code",
   "execution_count": 1,
   "metadata": {},
   "outputs": [],
   "source": [
    "from selenium import webdriver\n",
    "from selenium.webdriver.common.keys import Keys\n",
    "from selenium.webdriver.common.by import By\n",
    "from selenium.webdriver.support.ui import WebDriverWait\n",
    "from selenium.webdriver.support import expected_conditions as ec\n",
    "from selenium.common.exceptions import TimeoutException\n",
    "from time import sleep\n",
    "import os\n",
    "from pathlib import Path\n",
    "import platform\n",
    "\n",
    "platform = platform.platform()\n",
    "cwd = os.getcwd()\n",
    "download_path = os.path.join(cwd,'ANZCTR Downloads')\n",
    "#adjust this to fit your specific file structure \n",
    "parent = str(Path(cwd).parents[0]) "
   ]
  },
  {
   "cell_type": "code",
   "execution_count": 2,
   "metadata": {},
   "outputs": [],
   "source": [
    "if \"Darwin\" in platform:\n",
    "    chrome_driver = os.path.join(parent, 'Drivers', 'chromedriver')\n",
    "elif \"Windows\" in platform:\n",
    "    chrome_driver = os.path.join(parent, 'Drivers', 'chromedriver.exe')\n",
    "else:\n",
    "    print(\"No OS/Chromedriver match. OS: {}\".format(platform))"
   ]
  },
  {
   "cell_type": "code",
   "execution_count": 3,
   "metadata": {},
   "outputs": [
    {
     "name": "stdout",
     "output_type": "stream",
     "text": [
      "C:\\Users\\ndevito\\Dropbox\\Python projects\\Drivers\\chromedriver.exe\n"
     ]
    }
   ],
   "source": [
    "print(chrome_driver)"
   ]
  },
  {
   "cell_type": "code",
   "execution_count": 4,
   "metadata": {},
   "outputs": [],
   "source": [
    "#low count ANZCTR test URL\n",
    "test_anzctr = 'http://www.anzctr.org.au/TrialSearch.aspx?searchTxt=&conditionCategory=Ear&conditionCode=&interventionCodeOperator=OR&interventionCode=&ageGroup=&healthyVolunteers=&gender=All&allocationToIntervention=Randomised&dateOfRegistrationFrom=&dateOfRegistrationTo=&trialStartDateFrom=&trialStartDateTo=&recruitmentCountryOperator=OR&countryOfRecruitment=&primarySponsorType=&fundingSource=&healthCondition=&interventionDescription=&phase=&recruitmentStatus=&registry=ANZCTR&ethicsReview=&studyType=&isBasic=False&postcode=&distance='\n",
    "\n",
    "#actual URL to use for full download\n",
    "all_anzctr = 'http://www.anzctr.org.au/TrialSearch.aspx?searchTxt=&conditionCategory=&conditionCode=&interventionCodeOperator=OR&interventionCode=&ageGroup=&healthyVolunteers=&gender=&allocationToIntervention=&dateOfRegistrationFrom=&dateOfRegistrationTo=&trialStartDateFrom=&trialStartDateTo=&recruitmentCountryOperator=OR&countryOfRecruitment=&primarySponsorType=&fundingSource=&healthCondition=&interventionDescription=&phase=&recruitmentStatus=&registry=ANZCTR&ethicsReview=&studyType=&isBasic=False&postcode=&distance='"
   ]
  },
  {
   "cell_type": "code",
   "execution_count": 5,
   "metadata": {},
   "outputs": [],
   "source": [
    "#this gets the zip file from the ANZCTR\n",
    "\n",
    "chromeOptions = webdriver.ChromeOptions()\n",
    "prefs = {\"download.default_directory\" : download_path}\n",
    "chromeOptions.add_experimental_option(\"prefs\",prefs)\n",
    "driver = webdriver.Chrome(executable_path=chrome_driver, options=chromeOptions)\n",
    "driver.get(all_anzctr)\n",
    "wait = WebDriverWait(driver, 10)\n",
    "xml_button = wait.until(ec.presence_of_element_located((By.XPATH, '//input[@id=\"ctl00_body_btnDownload\"]')))\n",
    "driver.execute_script(\"document.getElementById('ctl00_body_btnDownload').click()\",xml_button)\n",
    "sleep(2)\n",
    "\n",
    "#makes sure the file is finished downloading before quitting the driver\n",
    "dl_check = 0\n",
    "while dl_check == 0:\n",
    "    count = 0\n",
    "    for file in os.listdir(download_path):\n",
    "        if file.endswith(\".crdownload\"):\n",
    "            count = count+1\n",
    "    if count == 0:\n",
    "        dl_check = 1\n",
    "        driver.quit()\n",
    "    else:\n",
    "        dl_check = 0\n",
    "        sleep(3)"
   ]
  },
  {
   "cell_type": "code",
   "execution_count": 6,
   "metadata": {},
   "outputs": [
    {
     "name": "stdout",
     "output_type": "stream",
     "text": [
      "TrialDetails_10_04_2019 9_16_29 PM.zip\n"
     ]
    }
   ],
   "source": [
    "#gets the name of the downloaded zip file\n",
    "\n",
    "for file in os.listdir(download_path):\n",
    "    if file.endswith('.zip'):\n",
    "        anzctr_zip = file\n",
    "\n",
    "print(anzctr_zip)\n"
   ]
  },
  {
   "cell_type": "code",
   "execution_count": 7,
   "metadata": {},
   "outputs": [],
   "source": [
    "#unzips it and then gets rid of it\n",
    "\n",
    "import zipfile\n",
    "zip_ref = zipfile.ZipFile(os.path.join(download_path, anzctr_zip), 'r')\n",
    "zip_ref.extractall(download_path)\n",
    "zip_ref.close()\n",
    "\n",
    "#cleans up xml file after extraction commenting out for now as might find safer way to do this\n",
    "#for file in os.listdir(download_path):\n",
    "#    if file.endswith('.zip'):\n",
    "#        os.remove(os.path.join(download_path, file)\n",
    "#can also clean up .xsl file if wanted but probably not necessary"
   ]
  },
  {
   "cell_type": "code",
   "execution_count": 8,
   "metadata": {},
   "outputs": [],
   "source": [
    "import xmltodict\n",
    "import json\n",
    "anzctr_trials_list = []"
   ]
  },
  {
   "cell_type": "code",
   "execution_count": 9,
   "metadata": {},
   "outputs": [],
   "source": [
    "for file in os.listdir(download_path):\n",
    "    if file.endswith('.xml'):\n",
    "        with open(os.path.join(download_path, file), encoding=\"utf8\") as xml:\n",
    "            doc = xmltodict.parse(xml.read())\n",
    "            anzctr_trials_list.append(str(json.dumps(doc)))"
   ]
  },
  {
   "cell_type": "code",
   "execution_count": 11,
   "metadata": {},
   "outputs": [
    {
     "name": "stdout",
     "output_type": "stream",
     "text": [
      "{\"ANZCTR_Trial\": {\"@requestNumber\": \"114\", \"stage\": \"Registered\", \"submitdate\": \"3/08/2005\", \"approvaldate\": \"9/08/2005\", \"actrnumber\": \"ACTRN12605000102673\", \"trial_identification\": {\"studytitle\": \"A community based primary prevention programme in New Zealand for children & adolescents at risk of NIDDM by modifying some associated risk factors: a randomised controlled trial\", \"scientifictitle\": \"A community based primary prevention programme in New Zealand for children & adolescents at risk of non insulin dependent diabetes mellitus (NIDDM, Type 2) by modifying some associated risk factors: a randomised controlled trial\", \"utrn\": null, \"trialacronym\": null}, \"conditions\": {\"healthcondition\": [\"Diabetes prevention\", \"Insulin resistance in children and adolescents\"], \"conditioncode\": [{\"conditioncode1\": \"Public Health\", \"conditioncode2\": \"Diabetes\"}, {\"conditioncode1\": \"Public Health\", \"conditioncode2\": \"Health promotion/education\"}]}, \"interventions\": {\"interventions\": \"An 8-week progressive resistance training programme in 10-15 year olds twice a week.  Free weights and ankle weights are used to complete 11 exercises covering the major muscle groups of the body.\", \"comparator\": \"A waitlist control group were invited to movies as a group during the intervention phase.\", \"control\": \"Active\", \"interventioncode\": \"Prevention\"}, \"outcomes\": {\"primaryOutcome\": {\"outcome\": \"Waist cirumference\", \"timepoint\": \"Measured at baseline and at 8-weeks.\"}, \"secondaryOutcome\": [{\"outcome\": \"1RM arm & leg strength, VO2peak, lipids, glucose, insulin, HOMA2-IR, height, weight, BMI, hip circumference, maturation, BIA, physical activity.\", \"timepoint\": \"All outcomes are measured at baseline and at 8 weeks.\"}, {\"outcome\": \"Questionnaires on self efficacy, self concept, physical activity & inactivity, lifestyle information relating to nutrition, smoking, physical activity & diabetes knowledge.\", \"timepoint\": \"All outcomes are measured at baseline and at 8 weeks.\"}, {\"outcome\": \"During each training session adherence, training intensity (RPE, weight, reps) were measured.\", \"timepoint\": \"All outcomes are measured at baseline and at 8 weeks.\"}]}, \"eligibility\": {\"inclusivecriteria\": \"10-15 years in year 7-10 at Intermediate or High School in Gore, New Zealand.\", \"inclusiveminage\": \"10\", \"inclusiveminagetype\": \"Years\", \"inclusivemaxage\": \"15\", \"inclusivemaxagetype\": \"Years\", \"inclusivegender\": \"Both males and females\", \"healthyvolunteer\": \"No\", \"exclusivecriteria\": \"Medical conditions or physical injury identify a risk, medications affecting heart rate, cognitive impairment preventing informed consent.\"}, \"trial_design\": {\"studytype\": \"Interventional\", \"purpose\": \"Prevention\", \"allocation\": \"Randomised controlled trial\", \"concealment\": \"Concealed to researcher in sealed envelopes until interventions were assigned\", \"sequence\": \"computer generated random sequence stratified by age and gender to allocate to either the training or wait-list control group.\", \"masking\": \"Blinded (masking used)\", \"assignment\": \"Factorial\", \"designfeatures\": \"wait-list control\", \"endpoint\": \"Safety/efficacy\", \"statisticalmethods\": null, \"masking1\": null, \"masking2\": null, \"masking3\": null, \"masking4\": null, \"patientregistry\": null, \"followup\": null, \"followuptype\": null, \"purposeobs\": null, \"duration\": null, \"selection\": null, \"timing\": null}, \"recruitment\": {\"phase\": null, \"anticipatedstartdate\": \"1/09/2003\", \"actualstartdate\": null, \"anticipatedenddate\": null, \"actualenddate\": null, \"samplesize\": \"110\", \"actualsamplesize\": null, \"recruitmentstatus\": \"Recruiting\", \"recruitmentcountry\": \"Australia\", \"recruitmentstate\": null}, \"sponsorship\": {\"primarysponsortype\": \"University\", \"primarysponsorname\": \"University of Sydney, School of exercise & sport science\", \"primarysponsoraddress\": null, \"primarysponsorcountry\": \"Australia\", \"fundingsource\": [{\"fundingtype\": \"University\", \"fundingname\": \"University of Sydney\", \"fundingaddress\": null, \"fundingcountry\": \"Australia\"}, {\"fundingtype\": \"Charities/Societies/Foundations\", \"fundingname\": \"Invercargill South Lions Club Diabetes Services Development Trust\", \"fundingaddress\": null, \"fundingcountry\": \"New Zealand\"}, {\"fundingtype\": \"Government body\", \"fundingname\": \"Southland District Health Board\", \"fundingaddress\": null, \"fundingcountry\": \"New Zealand\"}, {\"fundingtype\": \"Other\", \"fundingname\": \"Southern Institute of Technology\", \"fundingaddress\": null, \"fundingcountry\": \"New Zealand\"}], \"secondarysponsor\": {\"sponsortype\": \"None\", \"sponsorname\": \"nil\", \"sponsoraddress\": null, \"sponsorcountry\": null}}, \"ethicsAndSummary\": {\"summary\": null, \"trialwebsite\": null, \"publication\": null, \"ethicsreview\": \"Approved\", \"publicnotes\": null, \"ethicscommitee\": [{\"ethicname\": \"University of Sydney Human Ethics Committee\", \"ethicaddress\": null, \"ethicapprovaldate\": null, \"hrec\": null, \"ethicsubmitdate\": null, \"ethiccountry\": \"Australia\"}, {\"ethicname\": \"New Zealand Health Research Council: Southland Ethics Committtee\", \"ethicaddress\": null, \"ethicapprovaldate\": null, \"hrec\": null, \"ethicsubmitdate\": null, \"ethiccountry\": \"New Zealand\"}]}, \"attachment\": null, \"contacts\": {\"contact\": [{\"title\": null, \"name\": \"Amanda Benson\", \"address\": \"School of Exercise & Sport Science\\nUniversity of Sydney\\nCumberland Campus\\nPO Box 170\\nLidcombe NSW 1825\", \"phone\": \"+64 27 4413145 (NZ Number)\", \"fax\": null, \"email\": \"acbkiwi@clear.net.nz\", \"country\": \"Australia\", \"type\": \"Scientific Queries\"}, {\"title\": null, \"name\": \"Amanda Benson\", \"address\": \"School of Exercise & Sport Science\\nUniversity of Sydney\\nCumberland Campus\\nPO Box 170\\nLidcombe NSW 1825\", \"phone\": \"+64 27 4413145 (NZ Number)\", \"fax\": null, \"email\": \"acbkiwi@clear.net.nz\", \"country\": \"Australia\", \"type\": \"Public Queries\"}, {\"title\": null, \"name\": null, \"address\": null, \"phone\": null, \"fax\": null, \"email\": null, \"country\": null, \"type\": \"Updating Information\"}, {\"title\": null, \"name\": null, \"address\": null, \"phone\": null, \"fax\": null, \"email\": null, \"country\": null, \"type\": \"Principal Investigator\"}]}}}\n"
     ]
    }
   ],
   "source": [
    "print(anzctr_trials_list[100])"
   ]
  },
  {
   "cell_type": "code",
   "execution_count": 12,
   "metadata": {},
   "outputs": [],
   "source": [
    "#this creates a csv with no headers and a single column with all trials in json in their own row \n",
    "#although moving forward it might be easier to just work in JSON\n",
    "\n",
    "from datetime import date\n",
    "import csv\n",
    "\n",
    "def anzctr_trials():\n",
    "    with open('anzctr - ' + str(date.today()) + '.csv','w', newline = '')as anzctr_csv:\n",
    "        writer=csv.writer(anzctr_csv)\n",
    "        for val in anzctr_trials_list:\n",
    "            writer.writerow([val])\n",
    "            \n",
    "#run this function after the script runs to get a CSV"
   ]
  },
  {
   "cell_type": "code",
   "execution_count": 13,
   "metadata": {},
   "outputs": [],
   "source": [
    "anzctr_trials()"
   ]
  },
  {
   "cell_type": "code",
   "execution_count": null,
   "metadata": {},
   "outputs": [],
   "source": []
  }
 ],
 "metadata": {
  "jupytext": {
   "formats": "ipynb,py:light"
  },
  "kernelspec": {
   "display_name": "Python 3",
   "language": "python",
   "name": "python3"
  },
  "language_info": {
   "codemirror_mode": {
    "name": "ipython",
    "version": 3
   },
   "file_extension": ".py",
   "mimetype": "text/x-python",
   "name": "python",
   "nbconvert_exporter": "python",
   "pygments_lexer": "ipython3",
   "version": "3.7.3"
  }
 },
 "nbformat": 4,
 "nbformat_minor": 2
}
