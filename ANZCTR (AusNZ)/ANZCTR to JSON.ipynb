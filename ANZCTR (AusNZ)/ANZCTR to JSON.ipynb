{
 "cells": [
  {
   "cell_type": "code",
   "execution_count": 1,
   "metadata": {},
   "outputs": [],
   "source": [
    "from selenium import webdriver\n",
    "from selenium.webdriver.common.keys import Keys\n",
    "from selenium.webdriver.common.by import By\n",
    "from selenium.webdriver.support.ui import WebDriverWait\n",
    "from selenium.webdriver.support import expected_conditions as ec\n",
    "from selenium.common.exceptions import TimeoutException\n",
    "from time import sleep\n",
    "import os\n",
    "from pathlib import Path\n",
    "import platform\n",
    "\n",
    "platform = platform.platform()\n",
    "cwd = os.getcwd()\n",
    "download_path = os.path.join(cwd,'ANZCTR Downloads')\n",
    "#adjust this to fit your specific file structure \n",
    "parent = str(Path(cwd).parents[0]) "
   ]
  },
  {
   "cell_type": "code",
   "execution_count": 2,
   "metadata": {},
   "outputs": [],
   "source": [
    "if \"Darwin\" in platform:\n",
    "    chrome_driver = os.path.join(parent, 'Drivers', 'chromedriver')\n",
    "elif \"Windows\" in platform:\n",
    "    chrome_driver = os.path.join(parent, 'Drivers', 'chromedriver.exe')\n",
    "else:\n",
    "    print(\"No OS/Chromedriver match. OS: {}\".format(platform))"
   ]
  },
  {
   "cell_type": "code",
   "execution_count": 3,
   "metadata": {},
   "outputs": [
    {
     "name": "stdout",
     "output_type": "stream",
     "text": [
      "C:\\Users\\ndevito\\Dropbox\\Python projects\\Drivers\\chromedriver.exe\n"
     ]
    }
   ],
   "source": [
    "print(chrome_driver)"
   ]
  },
  {
   "cell_type": "code",
   "execution_count": 4,
   "metadata": {},
   "outputs": [],
   "source": [
    "#low count ANZCTR test URL\n",
    "test_anzctr = 'http://www.anzctr.org.au/TrialSearch.aspx?searchTxt=&conditionCategory=Ear&conditionCode=&interventionCodeOperator=OR&interventionCode=&ageGroup=&healthyVolunteers=&gender=All&allocationToIntervention=Randomised&dateOfRegistrationFrom=&dateOfRegistrationTo=&trialStartDateFrom=&trialStartDateTo=&recruitmentCountryOperator=OR&countryOfRecruitment=&primarySponsorType=&fundingSource=&healthCondition=&interventionDescription=&phase=&recruitmentStatus=&registry=ANZCTR&ethicsReview=&studyType=&isBasic=False&postcode=&distance='\n",
    "\n",
    "#actual URL to use for full download\n",
    "all_anzctr = 'http://www.anzctr.org.au/TrialSearch.aspx?searchTxt=&conditionCategory=&conditionCode=&interventionCodeOperator=OR&interventionCode=&ageGroup=&healthyVolunteers=&gender=&allocationToIntervention=&dateOfRegistrationFrom=&dateOfRegistrationTo=&trialStartDateFrom=&trialStartDateTo=&recruitmentCountryOperator=OR&countryOfRecruitment=&primarySponsorType=&fundingSource=&healthCondition=&interventionDescription=&phase=&recruitmentStatus=&registry=ANZCTR&ethicsReview=&studyType=&isBasic=False&postcode=&distance='"
   ]
  },
  {
   "cell_type": "code",
   "execution_count": 8,
   "metadata": {},
   "outputs": [],
   "source": [
    "#this gets the zip file from the ANZCTR\n",
    "\n",
    "chromeOptions = webdriver.ChromeOptions()\n",
    "prefs = {\"download.default_directory\" : download_path}\n",
    "chromeOptions.add_experimental_option(\"prefs\",prefs)\n",
    "driver = webdriver.Chrome(executable_path=chrome_driver, options=chromeOptions)\n",
    "driver.get(test_anzctr)\n",
    "wait = WebDriverWait(driver, 10)\n",
    "xml_button = wait.until(ec.presence_of_element_located((By.XPATH, '//input[@id=\"ctl00_body_btnDownload\"]')))\n",
    "driver.execute_script(\"document.getElementById('ctl00_body_btnDownload').click()\",xml_button)\n",
    "sleep(2)\n",
    "\n",
    "#makes sure the file is finished downloading before quitting the driver\n",
    "dl_check = 0\n",
    "while dl_check == 0:\n",
    "    count = 0\n",
    "    for file in os.listdir(download_path):\n",
    "        if file.endswith(\".crdownload\"):\n",
    "            count = count+1\n",
    "    if count == 0:\n",
    "        dl_check = 1\n",
    "        driver.quit()\n",
    "    else:\n",
    "        dl_check = 0\n",
    "        sleep(3)"
   ]
  },
  {
   "cell_type": "code",
   "execution_count": 11,
   "metadata": {},
   "outputs": [
    {
     "name": "stdout",
     "output_type": "stream",
     "text": [
      "TrialDetails_20_02_2019 11_58_41 PM.zip\n"
     ]
    }
   ],
   "source": [
    "#gets the name of the downloaded zip file\n",
    "\n",
    "for file in os.listdir(download_path):\n",
    "    if file.endswith('.zip'):\n",
    "        anzctr_zip = file\n",
    "\n",
    "print(anzctr_zip)\n"
   ]
  },
  {
   "cell_type": "code",
   "execution_count": 13,
   "metadata": {},
   "outputs": [],
   "source": [
    "#unzips it and then gets rid of it\n",
    "\n",
    "import zipfile\n",
    "zip_ref = zipfile.ZipFile(os.path.join(download_path, anzctr_zip), 'r')\n",
    "zip_ref.extractall(download_path)\n",
    "zip_ref.close()\n",
    "\n",
    "#cleans up xml file after extraction commenting out for now as might find safer way to do this\n",
    "#for file in os.listdir(download_path):\n",
    "#    if file.endswith('.zip'):\n",
    "#        os.remove(os.path.join(download_path, file)\n",
    "#can also clean up .xsl file if wanted but probably not necessary"
   ]
  },
  {
   "cell_type": "code",
   "execution_count": 14,
   "metadata": {},
   "outputs": [],
   "source": [
    "import xmltodict\n",
    "import json\n",
    "anzctr_trials_list = []"
   ]
  },
  {
   "cell_type": "code",
   "execution_count": 21,
   "metadata": {},
   "outputs": [],
   "source": [
    "for file in os.listdir(download_path):\n",
    "    if file.endswith('.xml'):\n",
    "        with open(os.path.join(download_path, file), encoding=\"utf8\") as xml:\n",
    "            doc = xmltodict.parse(xml.read())\n",
    "            anzctr_trials_list.append(str(json.dumps(doc)))"
   ]
  },
  {
   "cell_type": "code",
   "execution_count": 33,
   "metadata": {},
   "outputs": [
    {
     "name": "stdout",
     "output_type": "stream",
     "text": [
      "{\"ANZCTR_Trial\": {\"@requestNumber\": \"83781\", \"stage\": \"Registered\", \"submitdate\": \"2/04/2009\", \"approvaldate\": \"15/05/2009\", \"actrnumber\": \"ACTRN12609000284268\", \"trial_identification\": {\"studytitle\": \"Does adding otolith specific exercises to a standard vestibular rehabilitation programme improve outcomes for adults with inner ear dizziness?\", \"scientifictitle\": \"Adults with unilateral peripheral vestibular dysfunction undergoing standard vestibular or standard vestibular with added otolith specific exercise rehabilitation - do otolith exercises have an increased benefit in perception of handicap or balance outcomes?\", \"utrn\": null, \"trialacronym\": null}, \"conditions\": {\"healthcondition\": \"Unilateral peripheral vestibular hypofunction\", \"conditioncode\": [{\"conditioncode1\": \"Ear\", \"conditioncode2\": \"Deafness\"}, {\"conditioncode1\": \"Physical Medicine / Rehabilitation\", \"conditioncode2\": \"Physiotherapy\"}]}, \"interventions\": {\"interventions\": \"The overall duration of the treatment intervention is 9 weeks. Participants undergo a full subjective assessment of their condition at baseline and then complete self administered questionnaires that rate their perception of the problem and how this impacts on daily function and quality of life in the week prior to arriving for baseline assessment in Week 0 below.\\n\\nWeek 0 (90 minutes) - Physiotherapist 1 will perform a baseline balance and gait assessment for each participant.\\n\\nBased on the assessment findings, participants will be given a tailored home exercise program consisting of habituation, gaze stability, and balance exercises. Participants will be asked to complete these exercises taking 10-15 minutes, three times daily for the duration of the 9 week rehabilitation. All participants will be asked to fill in a home exercise diary in order to record completion of the exercise programme. \\n\\nWeeks 1 and 5 (30 minute review session) - Physiotherapist 2 will review and modify exercises as necessary. Review sessions will take approximately half an hour. A compliance measure for adherence to exercise programmes will be taken at these times for both groups.\\n \\nAt weeks 1 and 5, those participants in the intervention group of standard plus otolith specific vestibular rehabilitation program will be given added exercises to those above involving linear movement of head and/or movement of head position to change orientation with respect to gravity (eg side tilt or bouncing while sitting on a compliant surface). These exercises may add a further 5 minutes to their exercise program.\\n\\n\\nWeek 9 (60 minute review session)  Physiotherapist 1 will repeat the balance and gait assessment and questionnaires.\\n\\n6 months following baseline assessment (60 minutes) - Physiotherapist 1 will review the exercises and repeat objective outcome measures and questionnaires.\", \"comparator\": \"the control group will receive the exact same vestibular rehabilitation as described in the intervention/exposure group above except without the additional otolith specific exercises for the same overall duration\", \"control\": \"Active\", \"interventioncode\": \"Rehabilitation\"}, \"outcomes\": {\"primaryOutcome\": {\"outcome\": \"Degree of perceived impairment associated with dizziness via the Dizziness Handicap Inventory\", \"timepoint\": \"Baseline, post treatment, six month follow up\"}, \"secondaryOutcome\": {\"outcome\": \"Computerized Dynamic Posturography - composite score and condition eyes closed+sway reference\", \"timepoint\": \"Baseline, post treatment, six month follow up\"}}, \"eligibility\": {\"inclusivecriteria\": \"dizziness provoked or aggravated by movement,or, reduced participation in activities of daily life due to imbalance or dizziness due to a unilateral peripheral vestibular dysfunction which may or may not be confirmed by laboratory vestibular function tests\", \"inclusiveminage\": \"18\", \"inclusiveminagetype\": \"Years\", \"inclusivemaxage\": \"70\", \"inclusivemaxagetype\": \"Years\", \"inclusivegender\": \"Both males and females\", \"healthyvolunteer\": \"No\", \"exclusivecriteria\": \"Bilateral vestibular dysfunction, vestibular dysfunction of central origin, confounding neurological or orthopaedic or musculoskeletal conditions which may affect the participants ability to reliably complete the exercise program, insufficient English or cognitive ability to reliably complete the assessment.\"}, \"trial_design\": {\"studytype\": \"Interventional\", \"purpose\": \"Treatment\", \"allocation\": \"Randomised controlled trial\", \"concealment\": \"Patients are referred to a tertiary referral centre - the Vestibular Investigation Unit within the Royal Victorian Eye and Ear Hospital. Enrolment of participants will be done by the chief investigator after completion of vestibular function testing. Random allocation of the subjects to the intervention groups will be performed by an independent investigator. Group allocations will be shuffled and then drawn from a hat held at head height, ensuring that neither subject nor investigator has the ability to identify group allocation prior to selection.\", \"sequence\": \"simple randomisation by drawing a number from a hat\", \"masking\": \"Blinded (masking used)\", \"assignment\": \"Parallel\", \"designfeatures\": null, \"endpoint\": \"Safety/efficacy\", \"statisticalmethods\": null, \"masking1\": null, \"masking2\": null, \"masking3\": null, \"masking4\": null, \"patientregistry\": null, \"followup\": null, \"followuptype\": null, \"purposeobs\": null, \"duration\": null, \"selection\": null, \"timing\": null}, \"recruitment\": {\"phase\": \"Not Applicable\", \"anticipatedstartdate\": \"23/04/2008\", \"actualstartdate\": null, \"anticipatedenddate\": null, \"actualenddate\": null, \"samplesize\": \"48\", \"actualsamplesize\": null, \"recruitmentstatus\": \"Recruiting\", \"recruitmentcountry\": \"Australia\", \"recruitmentstate\": null}, \"sponsorship\": {\"primarysponsortype\": \"Hospital\", \"primarysponsorname\": \"Royal Victorian Eye and Ear Hospital\", \"primarysponsoraddress\": \"32 Gisborne Street\\nEast Melbourne\\nVictoria 3002\", \"primarysponsorcountry\": \"Australia\", \"fundingsource\": {\"fundingtype\": \"Hospital\", \"fundingname\": \"Royal Victorian Eye and Ear Hospital\", \"fundingaddress\": \"32 Gisborne Street\\nEast Melbourne\\nVictoria 3002\", \"fundingcountry\": \"Australia\"}, \"secondarysponsor\": {\"sponsortype\": \"University\", \"sponsorname\": \"Latrobe University\", \"sponsoraddress\": \"Bundoora\\nVic 3086\", \"sponsorcountry\": \"Australia\"}}, \"ethicsAndSummary\": {\"summary\": \"The main aim of the project is to compare the response to treatment of patients with vestibular dysfunction between those receiving a standard program of Vestibular Rehabilitation (VR) versus those receiving the standard VR plus additional exercises that specifically target the otolith structures of the inner ear.The research hypotheses are:\\n1.\\tThat additional otolith training exercises will improve the short term effectiveness of a customized program of vestibular rehabilitation, and\\n2.\\tThat the improved short term outcomes from vestibular rehabilitation with additional otolith training exercises will be maintained in the longer term.\", \"trialwebsite\": null, \"publication\": null, \"ethicsreview\": \"Approved\", \"publicnotes\": null, \"ethicscommitee\": [{\"ethicname\": \"Faculty Human Ethics Committee Latrobe University\", \"ethicaddress\": \"Bundoora \\nVIC 3086\", \"ethicapprovaldate\": \"23/04/2008\", \"hrec\": \"FHEC08/51\", \"ethicsubmitdate\": null, \"ethiccountry\": \"Australia\"}, {\"ethicname\": \"Royal Victorian Eye and Ear Hospital Human Ethics Committee\", \"ethicaddress\": \"32 Gisborne Street\\nEast Melbourne\\nVictoria 3002\", \"ethicapprovaldate\": \"1/12/2007\", \"hrec\": \"07/756\", \"ethicsubmitdate\": null, \"ethiccountry\": \"Australia\"}]}, \"attachment\": null, \"contacts\": {\"contact\": [{\"title\": null, \"name\": \"Arimbi Winoto\", \"address\": \"32 Gisborne Street\\nEast Melbourne\\nVictoria 3002\", \"phone\": \"+61 3 99298270\", \"fax\": null, \"email\": \"awinotosuatmadji@students.latrobe.edu.au\", \"country\": \"Australia\", \"type\": \"Scientific Queries\"}, {\"title\": null, \"name\": \"Arimbi Winoto\", \"address\": \"32 Gisborne Street\\nEast Melbourne\\nVictoria 3002\", \"phone\": \"+61 3 99298270\", \"fax\": null, \"email\": \"awinotosuatmadji@students.latrobe.edu.au\", \"country\": \"Australia\", \"type\": \"Public Queries\"}, {\"title\": null, \"name\": \"Arimbi Winoto\", \"address\": \"32 Gisborne Street\\nEast Melbourne\\nVictoria 3002\", \"phone\": \"+61 3 99298270\", \"fax\": null, \"email\": \"awinotosuatmadji@students.latrobe.edu.au\", \"country\": \"Australia\", \"type\": \"Updating Information\"}, {\"title\": null, \"name\": null, \"address\": null, \"phone\": null, \"fax\": null, \"email\": null, \"country\": null, \"type\": \"Principal Investigator\"}]}}}\n"
     ]
    }
   ],
   "source": [
    "print(anzctr_trials_list[2])"
   ]
  },
  {
   "cell_type": "code",
   "execution_count": 34,
   "metadata": {},
   "outputs": [],
   "source": [
    "#this creates a csv with no headers and a single column with all trials in json in their own row \n",
    "#although moving forward it might be easier to just work in JSON\n",
    "\n",
    "from datetime import date\n",
    "import csv\n",
    "\n",
    "def anzctr_trials():\n",
    "    with open('anzctr - ' + str(date.today()) + '.csv','w', newline = '')as anzctr_csv:\n",
    "        writer=csv.writer(anzctr_csv)\n",
    "        for val in anzctr_trials_list:\n",
    "            writer.writerow([val])\n",
    "            \n",
    "#run this function after the script runs to get a CSV"
   ]
  },
  {
   "cell_type": "code",
   "execution_count": 35,
   "metadata": {},
   "outputs": [],
   "source": []
  }
 ],
 "metadata": {
  "kernelspec": {
   "display_name": "Python 3",
   "language": "python",
   "name": "python3"
  },
  "language_info": {
   "codemirror_mode": {
    "name": "ipython",
    "version": 3
   },
   "file_extension": ".py",
   "mimetype": "text/x-python",
   "name": "python",
   "nbconvert_exporter": "python",
   "pygments_lexer": "ipython3",
   "version": "3.7.1"
  }
 },
 "nbformat": 4,
 "nbformat_minor": 2
}
